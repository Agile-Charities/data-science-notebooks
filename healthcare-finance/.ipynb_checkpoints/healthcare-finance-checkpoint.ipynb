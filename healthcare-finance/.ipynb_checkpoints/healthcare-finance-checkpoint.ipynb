{
 "cells": [
  {
   "cell_type": "markdown",
   "metadata": {},
   "source": [
    "This notebook is sectioned by heading. There is a 'Tyler' section and a 'David' section. If we put our stuff in only our own section, we should be able to work on the same notebook with no issues."
   ]
  },
  {
   "cell_type": "code",
   "execution_count": 15,
   "metadata": {
    "collapsed": false
   },
   "outputs": [],
   "source": [
    "# library imports\n",
    "import pandas as pd"
   ]
  },
  {
   "cell_type": "code",
   "execution_count": null,
   "metadata": {
    "collapsed": true
   },
   "outputs": [],
   "source": [
    "# GNRL is 6 gigabytes - too big\n",
    "#record_general = pd.read_csv('data/OP_DTL_GNRL_PGYR2015_P01172017.csv')\n",
    "# RSRCH has hundred of bad columns - not good for class\n",
    "#record_research = pd.read_csv('data/OP_DTL_RSRCH_PGYR2015_P01172017.csv')\n",
    "# REMOVED has very little data, so we're ignoring it for now\n",
    "#record_removed = pd.read_csv('data/OP_REMOVED_DELETED_PGYR2015_P01172017.csv')"
   ]
  },
  {
   "cell_type": "code",
   "execution_count": 6,
   "metadata": {
    "collapsed": false,
    "scrolled": true
   },
   "outputs": [
    {
     "data": {
      "text/plain": [
       "(4319, 29)"
      ]
     },
     "execution_count": 6,
     "metadata": {},
     "output_type": "execute_result"
    }
   ],
   "source": [
    "record_ownership = pd.read_csv('data/OP_DTL_OWNRSHP_PGYR2015_P01172017.csv')\n",
    "record_ownership.shape"
   ]
  },
  {
   "cell_type": "code",
   "execution_count": 7,
   "metadata": {
    "collapsed": false
   },
   "outputs": [
    {
     "data": {
      "text/html": [
       "<div>\n",
       "<table border=\"1\" class=\"dataframe\">\n",
       "  <thead>\n",
       "    <tr style=\"text-align: right;\">\n",
       "      <th></th>\n",
       "      <th>Change_Type</th>\n",
       "      <th>Physician_Profile_ID</th>\n",
       "      <th>Physician_First_Name</th>\n",
       "      <th>Physician_Middle_Name</th>\n",
       "      <th>Physician_Last_Name</th>\n",
       "      <th>Physician_Name_Suffix</th>\n",
       "      <th>Recipient_Primary_Business_Street_Address_Line1</th>\n",
       "      <th>Recipient_Primary_Business_Street_Address_Line2</th>\n",
       "      <th>Recipient_City</th>\n",
       "      <th>Recipient_State</th>\n",
       "      <th>...</th>\n",
       "      <th>Value_of_Interest</th>\n",
       "      <th>Terms_of_Interest</th>\n",
       "      <th>Submitting_Applicable_Manufacturer_or_Applicable_GPO_Name</th>\n",
       "      <th>Applicable_Manufacturer_or_Applicable_GPO_Making_Payment_ID</th>\n",
       "      <th>Applicable_Manufacturer_or_Applicable_GPO_Making_Payment_Name</th>\n",
       "      <th>Applicable_Manufacturer_or_Applicable_GPO_Making_Payment_State</th>\n",
       "      <th>Applicable_Manufacturer_or_Applicable_GPO_Making_Payment_Country</th>\n",
       "      <th>Dispute_Status_for_Publication</th>\n",
       "      <th>Interest_Held_by_Physician_or_an_Immediate_Family_Member</th>\n",
       "      <th>Payment_Publication_Date</th>\n",
       "    </tr>\n",
       "  </thead>\n",
       "  <tbody>\n",
       "    <tr>\n",
       "      <th>0</th>\n",
       "      <td>UNCHANGED</td>\n",
       "      <td>333118</td>\n",
       "      <td>Kelvin</td>\n",
       "      <td>NaN</td>\n",
       "      <td>Higa</td>\n",
       "      <td>NaN</td>\n",
       "      <td>205 E River Park Circle</td>\n",
       "      <td>Ste 460</td>\n",
       "      <td>Fresno</td>\n",
       "      <td>CA</td>\n",
       "      <td>...</td>\n",
       "      <td>733.26</td>\n",
       "      <td>Not Publicly Traded - Common.  409a estimated ...</td>\n",
       "      <td>Endogastric Solutions, Inc</td>\n",
       "      <td>100000010963</td>\n",
       "      <td>Endogastric Solutions, Inc</td>\n",
       "      <td>WA</td>\n",
       "      <td>United States</td>\n",
       "      <td>No</td>\n",
       "      <td>Physician Covered Recipient</td>\n",
       "      <td>01/17/2017</td>\n",
       "    </tr>\n",
       "    <tr>\n",
       "      <th>1</th>\n",
       "      <td>UNCHANGED</td>\n",
       "      <td>270405</td>\n",
       "      <td>Spencer</td>\n",
       "      <td>NaN</td>\n",
       "      <td>Holover</td>\n",
       "      <td>NaN</td>\n",
       "      <td>3003 New Hyde Park Rd</td>\n",
       "      <td>Ste 307</td>\n",
       "      <td>New Hyde Park</td>\n",
       "      <td>NY</td>\n",
       "      <td>...</td>\n",
       "      <td>3070.52</td>\n",
       "      <td>Not Publicly Traded - Preferred.    409a estim...</td>\n",
       "      <td>Endogastric Solutions, Inc</td>\n",
       "      <td>100000010963</td>\n",
       "      <td>Endogastric Solutions, Inc</td>\n",
       "      <td>WA</td>\n",
       "      <td>United States</td>\n",
       "      <td>No</td>\n",
       "      <td>Physician Covered Recipient</td>\n",
       "      <td>01/17/2017</td>\n",
       "    </tr>\n",
       "    <tr>\n",
       "      <th>2</th>\n",
       "      <td>UNCHANGED</td>\n",
       "      <td>4927</td>\n",
       "      <td>Shawn</td>\n",
       "      <td>NaN</td>\n",
       "      <td>Garber</td>\n",
       "      <td>NaN</td>\n",
       "      <td>3003 New Hyde Park Rd</td>\n",
       "      <td>Ste 307</td>\n",
       "      <td>New Hyde Park</td>\n",
       "      <td>NY</td>\n",
       "      <td>...</td>\n",
       "      <td>12282.66</td>\n",
       "      <td>Not Publicly Traded - Preferred.    409a estim...</td>\n",
       "      <td>Endogastric Solutions, Inc</td>\n",
       "      <td>100000010963</td>\n",
       "      <td>Endogastric Solutions, Inc</td>\n",
       "      <td>WA</td>\n",
       "      <td>United States</td>\n",
       "      <td>No</td>\n",
       "      <td>Physician Covered Recipient</td>\n",
       "      <td>01/17/2017</td>\n",
       "    </tr>\n",
       "    <tr>\n",
       "      <th>3</th>\n",
       "      <td>UNCHANGED</td>\n",
       "      <td>132587</td>\n",
       "      <td>Yu-Guang</td>\n",
       "      <td>NaN</td>\n",
       "      <td>He</td>\n",
       "      <td>NaN</td>\n",
       "      <td>5323 Harry Hines Blvd.</td>\n",
       "      <td>NaN</td>\n",
       "      <td>Dallas</td>\n",
       "      <td>TX</td>\n",
       "      <td>...</td>\n",
       "      <td>330940.54</td>\n",
       "      <td>Direct ownership</td>\n",
       "      <td>Vital Art and Science, LLC</td>\n",
       "      <td>100000005370</td>\n",
       "      <td>Vital Art and Science, LLC</td>\n",
       "      <td>TX</td>\n",
       "      <td>United States</td>\n",
       "      <td>No</td>\n",
       "      <td>Physician Covered Recipient</td>\n",
       "      <td>01/17/2017</td>\n",
       "    </tr>\n",
       "    <tr>\n",
       "      <th>4</th>\n",
       "      <td>UNCHANGED</td>\n",
       "      <td>885629</td>\n",
       "      <td>Allan</td>\n",
       "      <td>NaN</td>\n",
       "      <td>Deutsch</td>\n",
       "      <td>NaN</td>\n",
       "      <td>345 E 80th St</td>\n",
       "      <td>NaN</td>\n",
       "      <td>New York</td>\n",
       "      <td>NY</td>\n",
       "      <td>...</td>\n",
       "      <td>1548787.00</td>\n",
       "      <td>fifty percent owner in reporting entity</td>\n",
       "      <td>ESSENTIAL DENTAL SYSTEMS INCORPORATED</td>\n",
       "      <td>100000005369</td>\n",
       "      <td>ESSENTIAL DENTAL SYSTEMS INCORPORATED</td>\n",
       "      <td>NJ</td>\n",
       "      <td>United States</td>\n",
       "      <td>No</td>\n",
       "      <td>Physician Covered Recipient</td>\n",
       "      <td>01/17/2017</td>\n",
       "    </tr>\n",
       "  </tbody>\n",
       "</table>\n",
       "<p>5 rows × 29 columns</p>\n",
       "</div>"
      ],
      "text/plain": [
       "  Change_Type  Physician_Profile_ID Physician_First_Name  \\\n",
       "0   UNCHANGED                333118               Kelvin   \n",
       "1   UNCHANGED                270405              Spencer   \n",
       "2   UNCHANGED                  4927                Shawn   \n",
       "3   UNCHANGED                132587             Yu-Guang   \n",
       "4   UNCHANGED                885629                Allan   \n",
       "\n",
       "  Physician_Middle_Name Physician_Last_Name Physician_Name_Suffix  \\\n",
       "0                   NaN                Higa                   NaN   \n",
       "1                   NaN             Holover                   NaN   \n",
       "2                   NaN              Garber                   NaN   \n",
       "3                   NaN                  He                   NaN   \n",
       "4                   NaN             Deutsch                   NaN   \n",
       "\n",
       "  Recipient_Primary_Business_Street_Address_Line1  \\\n",
       "0                         205 E River Park Circle   \n",
       "1                           3003 New Hyde Park Rd   \n",
       "2                           3003 New Hyde Park Rd   \n",
       "3                          5323 Harry Hines Blvd.   \n",
       "4                                   345 E 80th St   \n",
       "\n",
       "  Recipient_Primary_Business_Street_Address_Line2 Recipient_City  \\\n",
       "0                                         Ste 460         Fresno   \n",
       "1                                         Ste 307  New Hyde Park   \n",
       "2                                         Ste 307  New Hyde Park   \n",
       "3                                             NaN         Dallas   \n",
       "4                                             NaN       New York   \n",
       "\n",
       "  Recipient_State            ...            Value_of_Interest  \\\n",
       "0              CA            ...                       733.26   \n",
       "1              NY            ...                      3070.52   \n",
       "2              NY            ...                     12282.66   \n",
       "3              TX            ...                    330940.54   \n",
       "4              NY            ...                   1548787.00   \n",
       "\n",
       "                                   Terms_of_Interest  \\\n",
       "0  Not Publicly Traded - Common.  409a estimated ...   \n",
       "1  Not Publicly Traded - Preferred.    409a estim...   \n",
       "2  Not Publicly Traded - Preferred.    409a estim...   \n",
       "3                                   Direct ownership   \n",
       "4            fifty percent owner in reporting entity   \n",
       "\n",
       "  Submitting_Applicable_Manufacturer_or_Applicable_GPO_Name  \\\n",
       "0                         Endogastric Solutions, Inc          \n",
       "1                         Endogastric Solutions, Inc          \n",
       "2                         Endogastric Solutions, Inc          \n",
       "3                         Vital Art and Science, LLC          \n",
       "4              ESSENTIAL DENTAL SYSTEMS INCORPORATED          \n",
       "\n",
       "   Applicable_Manufacturer_or_Applicable_GPO_Making_Payment_ID  \\\n",
       "0                                       100000010963             \n",
       "1                                       100000010963             \n",
       "2                                       100000010963             \n",
       "3                                       100000005370             \n",
       "4                                       100000005369             \n",
       "\n",
       "  Applicable_Manufacturer_or_Applicable_GPO_Making_Payment_Name  \\\n",
       "0                         Endogastric Solutions, Inc              \n",
       "1                         Endogastric Solutions, Inc              \n",
       "2                         Endogastric Solutions, Inc              \n",
       "3                         Vital Art and Science, LLC              \n",
       "4              ESSENTIAL DENTAL SYSTEMS INCORPORATED              \n",
       "\n",
       "  Applicable_Manufacturer_or_Applicable_GPO_Making_Payment_State  \\\n",
       "0                                                 WA               \n",
       "1                                                 WA               \n",
       "2                                                 WA               \n",
       "3                                                 TX               \n",
       "4                                                 NJ               \n",
       "\n",
       "   Applicable_Manufacturer_or_Applicable_GPO_Making_Payment_Country  \\\n",
       "0                                      United States                  \n",
       "1                                      United States                  \n",
       "2                                      United States                  \n",
       "3                                      United States                  \n",
       "4                                      United States                  \n",
       "\n",
       "   Dispute_Status_for_Publication  \\\n",
       "0                              No   \n",
       "1                              No   \n",
       "2                              No   \n",
       "3                              No   \n",
       "4                              No   \n",
       "\n",
       "   Interest_Held_by_Physician_or_an_Immediate_Family_Member  \\\n",
       "0                        Physician Covered Recipient          \n",
       "1                        Physician Covered Recipient          \n",
       "2                        Physician Covered Recipient          \n",
       "3                        Physician Covered Recipient          \n",
       "4                        Physician Covered Recipient          \n",
       "\n",
       "   Payment_Publication_Date  \n",
       "0                01/17/2017  \n",
       "1                01/17/2017  \n",
       "2                01/17/2017  \n",
       "3                01/17/2017  \n",
       "4                01/17/2017  \n",
       "\n",
       "[5 rows x 29 columns]"
      ]
     },
     "execution_count": 7,
     "metadata": {},
     "output_type": "execute_result"
    }
   ],
   "source": [
    "record_ownership.head()"
   ]
  },
  {
   "cell_type": "markdown",
   "metadata": {},
   "source": [
    "## Tyler Section"
   ]
  },
  {
   "cell_type": "markdown",
   "metadata": {},
   "source": [
    "#### Check to see how many doctors have multiple investments in healthcare industries"
   ]
  },
  {
   "cell_type": "code",
   "execution_count": 24,
   "metadata": {
    "collapsed": false
   },
   "outputs": [
    {
     "data": {
      "text/plain": [
       "(4319, 4)"
      ]
     },
     "execution_count": 24,
     "metadata": {},
     "output_type": "execute_result"
    }
   ],
   "source": [
    "doctors = pd.DataFrame([])\n",
    "doctors['ID'] = record_ownership['Physician_Profile_ID']\n",
    "doctors['First_Name'] = record_ownership['Physician_First_Name']\n",
    "doctors['Middle_Name'] = record_ownership['Physician_Middle_Name']\n",
    "doctors['Last_Name'] = record_ownership['Physician_Last_Name']\n",
    "\n",
    "doctors.shape"
   ]
  },
  {
   "cell_type": "code",
   "execution_count": 26,
   "metadata": {
    "collapsed": false
   },
   "outputs": [
    {
     "data": {
      "text/html": [
       "<div>\n",
       "<table border=\"1\" class=\"dataframe\">\n",
       "  <thead>\n",
       "    <tr style=\"text-align: right;\">\n",
       "      <th></th>\n",
       "      <th>ID</th>\n",
       "      <th>First_Name</th>\n",
       "      <th>Middle_Name</th>\n",
       "      <th>Last_Name</th>\n",
       "    </tr>\n",
       "  </thead>\n",
       "  <tbody>\n",
       "    <tr>\n",
       "      <th>0</th>\n",
       "      <td>333118</td>\n",
       "      <td>Kelvin</td>\n",
       "      <td>NaN</td>\n",
       "      <td>Higa</td>\n",
       "    </tr>\n",
       "    <tr>\n",
       "      <th>1</th>\n",
       "      <td>270405</td>\n",
       "      <td>Spencer</td>\n",
       "      <td>NaN</td>\n",
       "      <td>Holover</td>\n",
       "    </tr>\n",
       "    <tr>\n",
       "      <th>2</th>\n",
       "      <td>4927</td>\n",
       "      <td>Shawn</td>\n",
       "      <td>NaN</td>\n",
       "      <td>Garber</td>\n",
       "    </tr>\n",
       "    <tr>\n",
       "      <th>3</th>\n",
       "      <td>132587</td>\n",
       "      <td>Yu-Guang</td>\n",
       "      <td>NaN</td>\n",
       "      <td>He</td>\n",
       "    </tr>\n",
       "    <tr>\n",
       "      <th>4</th>\n",
       "      <td>885629</td>\n",
       "      <td>Allan</td>\n",
       "      <td>NaN</td>\n",
       "      <td>Deutsch</td>\n",
       "    </tr>\n",
       "  </tbody>\n",
       "</table>\n",
       "</div>"
      ],
      "text/plain": [
       "       ID First_Name Middle_Name Last_Name\n",
       "0  333118     Kelvin         NaN      Higa\n",
       "1  270405    Spencer         NaN   Holover\n",
       "2    4927      Shawn         NaN    Garber\n",
       "3  132587   Yu-Guang         NaN        He\n",
       "4  885629      Allan         NaN   Deutsch"
      ]
     },
     "execution_count": 26,
     "metadata": {},
     "output_type": "execute_result"
    }
   ],
   "source": [
    "doctors.head()"
   ]
  },
  {
   "cell_type": "code",
   "execution_count": 29,
   "metadata": {
    "collapsed": false
   },
   "outputs": [
    {
     "data": {
      "text/html": [
       "<div>\n",
       "<table border=\"1\" class=\"dataframe\">\n",
       "  <thead>\n",
       "    <tr style=\"text-align: right;\">\n",
       "      <th></th>\n",
       "      <th>ID</th>\n",
       "      <th>First_Name</th>\n",
       "      <th>Middle_Name</th>\n",
       "      <th>Last_Name</th>\n",
       "    </tr>\n",
       "  </thead>\n",
       "  <tbody>\n",
       "    <tr>\n",
       "      <th>3815</th>\n",
       "      <td>359</td>\n",
       "      <td>Douglas</td>\n",
       "      <td>K</td>\n",
       "      <td>Blacklidge</td>\n",
       "    </tr>\n",
       "    <tr>\n",
       "      <th>3919</th>\n",
       "      <td>571</td>\n",
       "      <td>Thomas</td>\n",
       "      <td>W</td>\n",
       "      <td>Childress</td>\n",
       "    </tr>\n",
       "    <tr>\n",
       "      <th>4204</th>\n",
       "      <td>869</td>\n",
       "      <td>Szilard</td>\n",
       "      <td>NaN</td>\n",
       "      <td>Kiss</td>\n",
       "    </tr>\n",
       "    <tr>\n",
       "      <th>3864</th>\n",
       "      <td>1073</td>\n",
       "      <td>Kevin</td>\n",
       "      <td>NaN</td>\n",
       "      <td>Gancarczyk</td>\n",
       "    </tr>\n",
       "    <tr>\n",
       "      <th>732</th>\n",
       "      <td>1182</td>\n",
       "      <td>ERIC</td>\n",
       "      <td>A</td>\n",
       "      <td>PIZZA</td>\n",
       "    </tr>\n",
       "  </tbody>\n",
       "</table>\n",
       "</div>"
      ],
      "text/plain": [
       "        ID First_Name Middle_Name   Last_Name\n",
       "3815   359    Douglas           K  Blacklidge\n",
       "3919   571     Thomas           W   Childress\n",
       "4204   869    Szilard         NaN        Kiss\n",
       "3864  1073      Kevin         NaN  Gancarczyk\n",
       "732   1182       ERIC           A       PIZZA"
      ]
     },
     "execution_count": 29,
     "metadata": {},
     "output_type": "execute_result"
    }
   ],
   "source": [
    "# sort by IDs (unneccessary)\n",
    "doctors_sorted = doctors.sort_values('ID')\n",
    "doctors_sorted.head()"
   ]
  },
  {
   "cell_type": "code",
   "execution_count": 35,
   "metadata": {
    "collapsed": false
   },
   "outputs": [
    {
     "name": "stdout",
     "output_type": "stream",
     "text": [
      "3870 unique physicians in data set of 4319 observations.\n",
      "449 observations are associated with physicians with 2 or more investments.\n"
     ]
    }
   ],
   "source": [
    "# count the unique IDs\n",
    "uniq = len(doctors.ID.unique())\n",
    "total = doctors.shape[0]\n",
    "print str(uniq) + \" unique physicians in data set of \" + str(total) + \" observations.\"\n",
    "print str(total - uniq) + \" observations are associated with physicians with 2 or more investments.\""
   ]
  },
  {
   "cell_type": "markdown",
   "metadata": {},
   "source": [
    "## David Section"
   ]
  },
  {
   "cell_type": "code",
   "execution_count": 9,
   "metadata": {
    "collapsed": false
   },
   "outputs": [
    {
     "data": {
      "text/plain": [
       "array(['Change_Type', 'Physician_Profile_ID', 'Physician_First_Name',\n",
       "       'Physician_Middle_Name', 'Physician_Last_Name',\n",
       "       'Physician_Name_Suffix',\n",
       "       'Recipient_Primary_Business_Street_Address_Line1',\n",
       "       'Recipient_Primary_Business_Street_Address_Line2', 'Recipient_City',\n",
       "       'Recipient_State', 'Recipient_Zip_Code', 'Recipient_Country',\n",
       "       'Recipient_Province', 'Recipient_Postal_Code',\n",
       "       'Physician_Primary_Type', 'Physician_Specialty', 'Record_ID',\n",
       "       'Program_Year', 'Total_Amount_Invested_USDollars',\n",
       "       'Value_of_Interest', 'Terms_of_Interest',\n",
       "       'Submitting_Applicable_Manufacturer_or_Applicable_GPO_Name',\n",
       "       'Applicable_Manufacturer_or_Applicable_GPO_Making_Payment_ID',\n",
       "       'Applicable_Manufacturer_or_Applicable_GPO_Making_Payment_Name',\n",
       "       'Applicable_Manufacturer_or_Applicable_GPO_Making_Payment_State',\n",
       "       'Applicable_Manufacturer_or_Applicable_GPO_Making_Payment_Country',\n",
       "       'Dispute_Status_for_Publication',\n",
       "       'Interest_Held_by_Physician_or_an_Immediate_Family_Member',\n",
       "       'Payment_Publication_Date'], dtype=object)"
      ]
     },
     "execution_count": 9,
     "metadata": {},
     "output_type": "execute_result"
    }
   ],
   "source": [
    "record_ownership.columns.values\n",
    "len(record_ownership)\n",
    "#record_ownership['Program_Year'].unique()\n",
    "#record_ownership['Terms_of_Interest'].head(25)\n",
    "#record_ownership['Submitting_Applicable_Manufacturer_or_Applicable_GPO_Name'].head(25)\n",
    "#record_ownership['Interest_Held_by_Physician_or_an_Immediate_Family_Member'].head(25)"
   ]
  },
  {
   "cell_type": "code",
   "execution_count": 21,
   "metadata": {
    "collapsed": false
   },
   "outputs": [
    {
     "data": {
      "text/html": [
       "<div>\n",
       "<table border=\"1\" class=\"dataframe\">\n",
       "  <thead>\n",
       "    <tr style=\"text-align: right;\">\n",
       "      <th></th>\n",
       "      <th>Recipient_Primary_Business_Street_Address_Line1</th>\n",
       "      <th>Recipient_Primary_Business_Street_Address_Line2</th>\n",
       "      <th>Recipient_City</th>\n",
       "      <th>Recipient_State</th>\n",
       "      <th>Recipient_Zip_Code</th>\n",
       "      <th>Recipient_Country</th>\n",
       "      <th>Recipient_Province</th>\n",
       "      <th>Recipient_Postal_Code</th>\n",
       "      <th>Physician_Primary_Type</th>\n",
       "      <th>Physician_Specialty</th>\n",
       "      <th>Total_Amount_Invested_USDollars</th>\n",
       "      <th>Applicable_Manufacturer_or_Applicable_GPO_Making_Payment_State</th>\n",
       "      <th>Applicable_Manufacturer_or_Applicable_GPO_Making_Payment_Country</th>\n",
       "      <th>Dispute_Status_for_Publication</th>\n",
       "    </tr>\n",
       "  </thead>\n",
       "  <tbody>\n",
       "    <tr>\n",
       "      <th>0</th>\n",
       "      <td>205 E River Park Circle</td>\n",
       "      <td>Ste 460</td>\n",
       "      <td>Fresno</td>\n",
       "      <td>CA</td>\n",
       "      <td>93720</td>\n",
       "      <td>United States</td>\n",
       "      <td>NaN</td>\n",
       "      <td>NaN</td>\n",
       "      <td>Medical Doctor</td>\n",
       "      <td>Allopathic &amp; Osteopathic Physicians|Surgery</td>\n",
       "      <td>2500.00</td>\n",
       "      <td>WA</td>\n",
       "      <td>United States</td>\n",
       "      <td>No</td>\n",
       "    </tr>\n",
       "    <tr>\n",
       "      <th>1</th>\n",
       "      <td>3003 New Hyde Park Rd</td>\n",
       "      <td>Ste 307</td>\n",
       "      <td>New Hyde Park</td>\n",
       "      <td>NY</td>\n",
       "      <td>11042</td>\n",
       "      <td>United States</td>\n",
       "      <td>NaN</td>\n",
       "      <td>NaN</td>\n",
       "      <td>Medical Doctor</td>\n",
       "      <td>Other Service Providers/ Specialist</td>\n",
       "      <td>24999.69</td>\n",
       "      <td>WA</td>\n",
       "      <td>United States</td>\n",
       "      <td>No</td>\n",
       "    </tr>\n",
       "    <tr>\n",
       "      <th>2</th>\n",
       "      <td>3003 New Hyde Park Rd</td>\n",
       "      <td>Ste 307</td>\n",
       "      <td>New Hyde Park</td>\n",
       "      <td>NY</td>\n",
       "      <td>11042</td>\n",
       "      <td>United States</td>\n",
       "      <td>NaN</td>\n",
       "      <td>NaN</td>\n",
       "      <td>Medical Doctor</td>\n",
       "      <td>Other Service Providers/ Specialist</td>\n",
       "      <td>99998.74</td>\n",
       "      <td>WA</td>\n",
       "      <td>United States</td>\n",
       "      <td>No</td>\n",
       "    </tr>\n",
       "    <tr>\n",
       "      <th>3</th>\n",
       "      <td>5323 Harry Hines Blvd.</td>\n",
       "      <td>NaN</td>\n",
       "      <td>Dallas</td>\n",
       "      <td>TX</td>\n",
       "      <td>75390-9057</td>\n",
       "      <td>United States</td>\n",
       "      <td>NaN</td>\n",
       "      <td>NaN</td>\n",
       "      <td>Medical Doctor</td>\n",
       "      <td>Allopathic &amp; Osteopathic Physicians|Ophthalmology</td>\n",
       "      <td>10000.00</td>\n",
       "      <td>TX</td>\n",
       "      <td>United States</td>\n",
       "      <td>No</td>\n",
       "    </tr>\n",
       "    <tr>\n",
       "      <th>4</th>\n",
       "      <td>345 E 80th St</td>\n",
       "      <td>NaN</td>\n",
       "      <td>New York</td>\n",
       "      <td>NY</td>\n",
       "      <td>10075</td>\n",
       "      <td>United States</td>\n",
       "      <td>NaN</td>\n",
       "      <td>NaN</td>\n",
       "      <td>Doctor of Dentistry</td>\n",
       "      <td>Dental Providers|Dentist|Oral and Maxillofacia...</td>\n",
       "      <td>1548787.00</td>\n",
       "      <td>NJ</td>\n",
       "      <td>United States</td>\n",
       "      <td>No</td>\n",
       "    </tr>\n",
       "  </tbody>\n",
       "</table>\n",
       "</div>"
      ],
      "text/plain": [
       "  Recipient_Primary_Business_Street_Address_Line1  \\\n",
       "0                         205 E River Park Circle   \n",
       "1                           3003 New Hyde Park Rd   \n",
       "2                           3003 New Hyde Park Rd   \n",
       "3                          5323 Harry Hines Blvd.   \n",
       "4                                   345 E 80th St   \n",
       "\n",
       "  Recipient_Primary_Business_Street_Address_Line2 Recipient_City  \\\n",
       "0                                         Ste 460         Fresno   \n",
       "1                                         Ste 307  New Hyde Park   \n",
       "2                                         Ste 307  New Hyde Park   \n",
       "3                                             NaN         Dallas   \n",
       "4                                             NaN       New York   \n",
       "\n",
       "  Recipient_State Recipient_Zip_Code Recipient_Country Recipient_Province  \\\n",
       "0              CA              93720     United States                NaN   \n",
       "1              NY              11042     United States                NaN   \n",
       "2              NY              11042     United States                NaN   \n",
       "3              TX         75390-9057     United States                NaN   \n",
       "4              NY              10075     United States                NaN   \n",
       "\n",
       "   Recipient_Postal_Code Physician_Primary_Type  \\\n",
       "0                    NaN         Medical Doctor   \n",
       "1                    NaN         Medical Doctor   \n",
       "2                    NaN         Medical Doctor   \n",
       "3                    NaN         Medical Doctor   \n",
       "4                    NaN    Doctor of Dentistry   \n",
       "\n",
       "                                 Physician_Specialty  \\\n",
       "0        Allopathic & Osteopathic Physicians|Surgery   \n",
       "1                Other Service Providers/ Specialist   \n",
       "2                Other Service Providers/ Specialist   \n",
       "3  Allopathic & Osteopathic Physicians|Ophthalmology   \n",
       "4  Dental Providers|Dentist|Oral and Maxillofacia...   \n",
       "\n",
       "   Total_Amount_Invested_USDollars  \\\n",
       "0                          2500.00   \n",
       "1                         24999.69   \n",
       "2                         99998.74   \n",
       "3                         10000.00   \n",
       "4                       1548787.00   \n",
       "\n",
       "  Applicable_Manufacturer_or_Applicable_GPO_Making_Payment_State  \\\n",
       "0                                                 WA               \n",
       "1                                                 WA               \n",
       "2                                                 WA               \n",
       "3                                                 TX               \n",
       "4                                                 NJ               \n",
       "\n",
       "  Applicable_Manufacturer_or_Applicable_GPO_Making_Payment_Country  \\\n",
       "0                                      United States                 \n",
       "1                                      United States                 \n",
       "2                                      United States                 \n",
       "3                                      United States                 \n",
       "4                                      United States                 \n",
       "\n",
       "  Dispute_Status_for_Publication  \n",
       "0                             No  \n",
       "1                             No  \n",
       "2                             No  \n",
       "3                             No  \n",
       "4                             No  "
      ]
     },
     "execution_count": 21,
     "metadata": {},
     "output_type": "execute_result"
    }
   ],
   "source": [
    "Geography = record_ownership[['Recipient_Primary_Business_Street_Address_Line1', 'Recipient_Primary_Business_Street_Address_Line2', \n",
    "                             'Recipient_City', 'Recipient_State', 'Recipient_Zip_Code', 'Recipient_Country', 'Recipient_Province', \n",
    "                             'Recipient_Postal_Code', 'Physician_Primary_Type', 'Physician_Specialty', 'Total_Amount_Invested_USDollars',\n",
    "                             'Applicable_Manufacturer_or_Applicable_GPO_Making_Payment_State',\n",
    "                             'Applicable_Manufacturer_or_Applicable_GPO_Making_Payment_Country',\n",
    "                             'Dispute_Status_for_Publication'\n",
    "                            ]]\n",
    "\n",
    "Geography.head()\n"
   ]
  },
  {
   "cell_type": "code",
   "execution_count": 30,
   "metadata": {
    "collapsed": false
   },
   "outputs": [
    {
     "ename": "SyntaxError",
     "evalue": "EOL while scanning string literal (<ipython-input-30-d3bd565d8b86>, line 2)",
     "output_type": "error",
     "traceback": [
      "\u001b[0;36m  File \u001b[0;32m\"<ipython-input-30-d3bd565d8b86>\"\u001b[0;36m, line \u001b[0;32m2\u001b[0m\n\u001b[0;31m    Geography['Recipient_Country].unique()\u001b[0m\n\u001b[0m                                         ^\u001b[0m\n\u001b[0;31mSyntaxError\u001b[0m\u001b[0;31m:\u001b[0m EOL while scanning string literal\n"
     ]
    }
   ],
   "source": [
    "#Geography.groupby('Dispute_Status_for_Publication').count()\n",
    "Geography['Recipient_Country].unique()"
   ]
  },
  {
   "cell_type": "code",
   "execution_count": 25,
   "metadata": {
    "collapsed": false
   },
   "outputs": [],
   "source": [
    "import urllib\n",
    "url = 'https://www.irs.gov/pub/irs-soi/14zpallagi.csv'\n",
    "response = urllib.urlopen(url)\n",
    "csv = response.read()\n",
    "with open('data/Income.csv', 'wb') as f:\n",
    "    f.write(csv)\n",
    "    \n",
    "income = pd.read_csv('data/Income.csv')"
   ]
  }
 ],
 "metadata": {
  "kernelspec": {
   "display_name": "Python [default]",
   "language": "python",
   "name": "python2"
  },
  "language_info": {
   "codemirror_mode": {
    "name": "ipython",
    "version": 2
   },
   "file_extension": ".py",
   "mimetype": "text/x-python",
   "name": "python",
   "nbconvert_exporter": "python",
   "pygments_lexer": "ipython2",
   "version": "2.7.12"
  }
 },
 "nbformat": 4,
 "nbformat_minor": 2
}
