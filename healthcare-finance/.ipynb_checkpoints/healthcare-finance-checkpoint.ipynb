{
 "cells": [
  {
   "cell_type": "markdown",
   "metadata": {},
   "source": [
    "This notebook is sectioned by heading. There is a 'Tyler' section and a 'David' section. If we put our stuff in only our own section, we should be able to work on the same notebook with no issues."
   ]
  },
  {
   "cell_type": "markdown",
   "metadata": {},
   "source": [
    "Things to investigate:\n",
    "\n",
    "- How many investments are by doctors who have multiple investments? (Tyler, done)\n",
    "\n",
    "- Which states / zip codes are associated with the most investments? Does affluence of business zipcode correlate with doctor investment? (David, in progress)\n",
    "\n",
    "- Which doctors have invested the most money? In the most companies?\n",
    "\n",
    "- Which investments were made during or prior to 2015? What is the total sum of these different groups of investments?\n",
    "\n",
    "- Which businesses hold the most investments from doctors? Are they geographically close to each other?"
   ]
  },
  {
   "cell_type": "code",
   "execution_count": 105,
   "metadata": {
    "collapsed": false
   },
   "outputs": [],
   "source": [
    "# library imports\n",
    "import pandas as pd\n",
    "import numpy as np\n",
    "import matplotlib as plt\n",
    "\n",
    "import locale # money formatting"
   ]
  },
  {
   "cell_type": "code",
   "execution_count": 96,
   "metadata": {
    "collapsed": false
   },
   "outputs": [
    {
     "data": {
      "text/plain": [
       "'English_United States.1252'"
      ]
     },
     "execution_count": 96,
     "metadata": {},
     "output_type": "execute_result"
    }
   ],
   "source": [
    "locale.setlocale( locale.LC_ALL, '' )"
   ]
  },
  {
   "cell_type": "code",
   "execution_count": 3,
   "metadata": {
    "collapsed": true
   },
   "outputs": [],
   "source": [
    "#     GNRL is 6 gigabytes - too big\n",
    "# record_general = pd.read_csv('data/OP_DTL_GNRL_PGYR2015_P01172017.csv')\n",
    "#     RSRCH has hundred of bad columns - not good for class\n",
    "# record_research = pd.read_csv('data/OP_DTL_RSRCH_PGYR2015_P01172017.csv')\n",
    "#     REMOVED has very little data, so we're ignoring it for now\n",
    "# record_removed = pd.read_csv('data/OP_REMOVED_DELETED_PGYR2015_P01172017.csv')"
   ]
  },
  {
   "cell_type": "code",
   "execution_count": 4,
   "metadata": {
    "collapsed": false,
    "scrolled": true
   },
   "outputs": [
    {
     "data": {
      "text/plain": [
       "(4319, 29)"
      ]
     },
     "execution_count": 4,
     "metadata": {},
     "output_type": "execute_result"
    }
   ],
   "source": [
    "record_ownership = pd.read_csv('data/OP_DTL_OWNRSHP_PGYR2015_P01172017.csv')\n",
    "record_ownership.shape"
   ]
  },
  {
   "cell_type": "code",
   "execution_count": 6,
   "metadata": {
    "collapsed": false
   },
   "outputs": [
    {
     "data": {
      "text/html": [
       "<div>\n",
       "<table border=\"1\" class=\"dataframe\">\n",
       "  <thead>\n",
       "    <tr style=\"text-align: right;\">\n",
       "      <th></th>\n",
       "      <th>Change_Type</th>\n",
       "      <th>Physician_Profile_ID</th>\n",
       "      <th>Physician_First_Name</th>\n",
       "      <th>Physician_Middle_Name</th>\n",
       "      <th>Physician_Last_Name</th>\n",
       "      <th>Physician_Name_Suffix</th>\n",
       "      <th>Recipient_Primary_Business_Street_Address_Line1</th>\n",
       "      <th>Recipient_Primary_Business_Street_Address_Line2</th>\n",
       "      <th>Recipient_City</th>\n",
       "      <th>Recipient_State</th>\n",
       "      <th>...</th>\n",
       "      <th>Value_of_Interest</th>\n",
       "      <th>Terms_of_Interest</th>\n",
       "      <th>Submitting_Applicable_Manufacturer_or_Applicable_GPO_Name</th>\n",
       "      <th>Applicable_Manufacturer_or_Applicable_GPO_Making_Payment_ID</th>\n",
       "      <th>Applicable_Manufacturer_or_Applicable_GPO_Making_Payment_Name</th>\n",
       "      <th>Applicable_Manufacturer_or_Applicable_GPO_Making_Payment_State</th>\n",
       "      <th>Applicable_Manufacturer_or_Applicable_GPO_Making_Payment_Country</th>\n",
       "      <th>Dispute_Status_for_Publication</th>\n",
       "      <th>Interest_Held_by_Physician_or_an_Immediate_Family_Member</th>\n",
       "      <th>Payment_Publication_Date</th>\n",
       "    </tr>\n",
       "  </thead>\n",
       "  <tbody>\n",
       "    <tr>\n",
       "      <th>0</th>\n",
       "      <td>UNCHANGED</td>\n",
       "      <td>333118</td>\n",
       "      <td>Kelvin</td>\n",
       "      <td>NaN</td>\n",
       "      <td>Higa</td>\n",
       "      <td>NaN</td>\n",
       "      <td>205 E River Park Circle</td>\n",
       "      <td>Ste 460</td>\n",
       "      <td>Fresno</td>\n",
       "      <td>CA</td>\n",
       "      <td>...</td>\n",
       "      <td>733.26</td>\n",
       "      <td>Not Publicly Traded - Common.  409a estimated ...</td>\n",
       "      <td>Endogastric Solutions, Inc</td>\n",
       "      <td>100000010963</td>\n",
       "      <td>Endogastric Solutions, Inc</td>\n",
       "      <td>WA</td>\n",
       "      <td>United States</td>\n",
       "      <td>No</td>\n",
       "      <td>Physician Covered Recipient</td>\n",
       "      <td>01/17/2017</td>\n",
       "    </tr>\n",
       "    <tr>\n",
       "      <th>1</th>\n",
       "      <td>UNCHANGED</td>\n",
       "      <td>270405</td>\n",
       "      <td>Spencer</td>\n",
       "      <td>NaN</td>\n",
       "      <td>Holover</td>\n",
       "      <td>NaN</td>\n",
       "      <td>3003 New Hyde Park Rd</td>\n",
       "      <td>Ste 307</td>\n",
       "      <td>New Hyde Park</td>\n",
       "      <td>NY</td>\n",
       "      <td>...</td>\n",
       "      <td>3070.52</td>\n",
       "      <td>Not Publicly Traded - Preferred.    409a estim...</td>\n",
       "      <td>Endogastric Solutions, Inc</td>\n",
       "      <td>100000010963</td>\n",
       "      <td>Endogastric Solutions, Inc</td>\n",
       "      <td>WA</td>\n",
       "      <td>United States</td>\n",
       "      <td>No</td>\n",
       "      <td>Physician Covered Recipient</td>\n",
       "      <td>01/17/2017</td>\n",
       "    </tr>\n",
       "    <tr>\n",
       "      <th>2</th>\n",
       "      <td>UNCHANGED</td>\n",
       "      <td>4927</td>\n",
       "      <td>Shawn</td>\n",
       "      <td>NaN</td>\n",
       "      <td>Garber</td>\n",
       "      <td>NaN</td>\n",
       "      <td>3003 New Hyde Park Rd</td>\n",
       "      <td>Ste 307</td>\n",
       "      <td>New Hyde Park</td>\n",
       "      <td>NY</td>\n",
       "      <td>...</td>\n",
       "      <td>12282.66</td>\n",
       "      <td>Not Publicly Traded - Preferred.    409a estim...</td>\n",
       "      <td>Endogastric Solutions, Inc</td>\n",
       "      <td>100000010963</td>\n",
       "      <td>Endogastric Solutions, Inc</td>\n",
       "      <td>WA</td>\n",
       "      <td>United States</td>\n",
       "      <td>No</td>\n",
       "      <td>Physician Covered Recipient</td>\n",
       "      <td>01/17/2017</td>\n",
       "    </tr>\n",
       "    <tr>\n",
       "      <th>3</th>\n",
       "      <td>UNCHANGED</td>\n",
       "      <td>132587</td>\n",
       "      <td>Yu-Guang</td>\n",
       "      <td>NaN</td>\n",
       "      <td>He</td>\n",
       "      <td>NaN</td>\n",
       "      <td>5323 Harry Hines Blvd.</td>\n",
       "      <td>NaN</td>\n",
       "      <td>Dallas</td>\n",
       "      <td>TX</td>\n",
       "      <td>...</td>\n",
       "      <td>330940.54</td>\n",
       "      <td>Direct ownership</td>\n",
       "      <td>Vital Art and Science, LLC</td>\n",
       "      <td>100000005370</td>\n",
       "      <td>Vital Art and Science, LLC</td>\n",
       "      <td>TX</td>\n",
       "      <td>United States</td>\n",
       "      <td>No</td>\n",
       "      <td>Physician Covered Recipient</td>\n",
       "      <td>01/17/2017</td>\n",
       "    </tr>\n",
       "    <tr>\n",
       "      <th>4</th>\n",
       "      <td>UNCHANGED</td>\n",
       "      <td>885629</td>\n",
       "      <td>Allan</td>\n",
       "      <td>NaN</td>\n",
       "      <td>Deutsch</td>\n",
       "      <td>NaN</td>\n",
       "      <td>345 E 80th St</td>\n",
       "      <td>NaN</td>\n",
       "      <td>New York</td>\n",
       "      <td>NY</td>\n",
       "      <td>...</td>\n",
       "      <td>1548787.00</td>\n",
       "      <td>fifty percent owner in reporting entity</td>\n",
       "      <td>ESSENTIAL DENTAL SYSTEMS INCORPORATED</td>\n",
       "      <td>100000005369</td>\n",
       "      <td>ESSENTIAL DENTAL SYSTEMS INCORPORATED</td>\n",
       "      <td>NJ</td>\n",
       "      <td>United States</td>\n",
       "      <td>No</td>\n",
       "      <td>Physician Covered Recipient</td>\n",
       "      <td>01/17/2017</td>\n",
       "    </tr>\n",
       "  </tbody>\n",
       "</table>\n",
       "<p>5 rows × 29 columns</p>\n",
       "</div>"
      ],
      "text/plain": [
       "  Change_Type  Physician_Profile_ID Physician_First_Name  \\\n",
       "0   UNCHANGED                333118               Kelvin   \n",
       "1   UNCHANGED                270405              Spencer   \n",
       "2   UNCHANGED                  4927                Shawn   \n",
       "3   UNCHANGED                132587             Yu-Guang   \n",
       "4   UNCHANGED                885629                Allan   \n",
       "\n",
       "  Physician_Middle_Name Physician_Last_Name Physician_Name_Suffix  \\\n",
       "0                   NaN                Higa                   NaN   \n",
       "1                   NaN             Holover                   NaN   \n",
       "2                   NaN              Garber                   NaN   \n",
       "3                   NaN                  He                   NaN   \n",
       "4                   NaN             Deutsch                   NaN   \n",
       "\n",
       "  Recipient_Primary_Business_Street_Address_Line1  \\\n",
       "0                         205 E River Park Circle   \n",
       "1                           3003 New Hyde Park Rd   \n",
       "2                           3003 New Hyde Park Rd   \n",
       "3                          5323 Harry Hines Blvd.   \n",
       "4                                   345 E 80th St   \n",
       "\n",
       "  Recipient_Primary_Business_Street_Address_Line2 Recipient_City  \\\n",
       "0                                         Ste 460         Fresno   \n",
       "1                                         Ste 307  New Hyde Park   \n",
       "2                                         Ste 307  New Hyde Park   \n",
       "3                                             NaN         Dallas   \n",
       "4                                             NaN       New York   \n",
       "\n",
       "  Recipient_State            ...            Value_of_Interest  \\\n",
       "0              CA            ...                       733.26   \n",
       "1              NY            ...                      3070.52   \n",
       "2              NY            ...                     12282.66   \n",
       "3              TX            ...                    330940.54   \n",
       "4              NY            ...                   1548787.00   \n",
       "\n",
       "                                   Terms_of_Interest  \\\n",
       "0  Not Publicly Traded - Common.  409a estimated ...   \n",
       "1  Not Publicly Traded - Preferred.    409a estim...   \n",
       "2  Not Publicly Traded - Preferred.    409a estim...   \n",
       "3                                   Direct ownership   \n",
       "4            fifty percent owner in reporting entity   \n",
       "\n",
       "  Submitting_Applicable_Manufacturer_or_Applicable_GPO_Name  \\\n",
       "0                         Endogastric Solutions, Inc          \n",
       "1                         Endogastric Solutions, Inc          \n",
       "2                         Endogastric Solutions, Inc          \n",
       "3                         Vital Art and Science, LLC          \n",
       "4              ESSENTIAL DENTAL SYSTEMS INCORPORATED          \n",
       "\n",
       "   Applicable_Manufacturer_or_Applicable_GPO_Making_Payment_ID  \\\n",
       "0                                       100000010963             \n",
       "1                                       100000010963             \n",
       "2                                       100000010963             \n",
       "3                                       100000005370             \n",
       "4                                       100000005369             \n",
       "\n",
       "  Applicable_Manufacturer_or_Applicable_GPO_Making_Payment_Name  \\\n",
       "0                         Endogastric Solutions, Inc              \n",
       "1                         Endogastric Solutions, Inc              \n",
       "2                         Endogastric Solutions, Inc              \n",
       "3                         Vital Art and Science, LLC              \n",
       "4              ESSENTIAL DENTAL SYSTEMS INCORPORATED              \n",
       "\n",
       "  Applicable_Manufacturer_or_Applicable_GPO_Making_Payment_State  \\\n",
       "0                                                 WA               \n",
       "1                                                 WA               \n",
       "2                                                 WA               \n",
       "3                                                 TX               \n",
       "4                                                 NJ               \n",
       "\n",
       "   Applicable_Manufacturer_or_Applicable_GPO_Making_Payment_Country  \\\n",
       "0                                      United States                  \n",
       "1                                      United States                  \n",
       "2                                      United States                  \n",
       "3                                      United States                  \n",
       "4                                      United States                  \n",
       "\n",
       "   Dispute_Status_for_Publication  \\\n",
       "0                              No   \n",
       "1                              No   \n",
       "2                              No   \n",
       "3                              No   \n",
       "4                              No   \n",
       "\n",
       "   Interest_Held_by_Physician_or_an_Immediate_Family_Member  \\\n",
       "0                        Physician Covered Recipient          \n",
       "1                        Physician Covered Recipient          \n",
       "2                        Physician Covered Recipient          \n",
       "3                        Physician Covered Recipient          \n",
       "4                        Physician Covered Recipient          \n",
       "\n",
       "   Payment_Publication_Date  \n",
       "0                01/17/2017  \n",
       "1                01/17/2017  \n",
       "2                01/17/2017  \n",
       "3                01/17/2017  \n",
       "4                01/17/2017  \n",
       "\n",
       "[5 rows x 29 columns]"
      ]
     },
     "execution_count": 6,
     "metadata": {},
     "output_type": "execute_result"
    }
   ],
   "source": [
    "record_ownership.head()"
   ]
  },
  {
   "cell_type": "markdown",
   "metadata": {},
   "source": [
    "## Tyler: How many investments are by doctors who have multiple investments?"
   ]
  },
  {
   "cell_type": "code",
   "execution_count": 5,
   "metadata": {
    "collapsed": false
   },
   "outputs": [
    {
     "data": {
      "text/plain": [
       "(4319, 4)"
      ]
     },
     "execution_count": 5,
     "metadata": {},
     "output_type": "execute_result"
    }
   ],
   "source": [
    "doctors = pd.DataFrame([])\n",
    "doctors['ID'] = record_ownership['Physician_Profile_ID']\n",
    "doctors['First_Name'] = record_ownership['Physician_First_Name']\n",
    "doctors['Middle_Name'] = record_ownership['Physician_Middle_Name']\n",
    "doctors['Last_Name'] = record_ownership['Physician_Last_Name']\n",
    "\n",
    "doctors.shape"
   ]
  },
  {
   "cell_type": "code",
   "execution_count": 6,
   "metadata": {
    "collapsed": false
   },
   "outputs": [
    {
     "data": {
      "text/html": [
       "<div>\n",
       "<table border=\"1\" class=\"dataframe\">\n",
       "  <thead>\n",
       "    <tr style=\"text-align: right;\">\n",
       "      <th></th>\n",
       "      <th>ID</th>\n",
       "      <th>First_Name</th>\n",
       "      <th>Middle_Name</th>\n",
       "      <th>Last_Name</th>\n",
       "    </tr>\n",
       "  </thead>\n",
       "  <tbody>\n",
       "    <tr>\n",
       "      <th>0</th>\n",
       "      <td>333118</td>\n",
       "      <td>Kelvin</td>\n",
       "      <td>NaN</td>\n",
       "      <td>Higa</td>\n",
       "    </tr>\n",
       "    <tr>\n",
       "      <th>1</th>\n",
       "      <td>270405</td>\n",
       "      <td>Spencer</td>\n",
       "      <td>NaN</td>\n",
       "      <td>Holover</td>\n",
       "    </tr>\n",
       "    <tr>\n",
       "      <th>2</th>\n",
       "      <td>4927</td>\n",
       "      <td>Shawn</td>\n",
       "      <td>NaN</td>\n",
       "      <td>Garber</td>\n",
       "    </tr>\n",
       "    <tr>\n",
       "      <th>3</th>\n",
       "      <td>132587</td>\n",
       "      <td>Yu-Guang</td>\n",
       "      <td>NaN</td>\n",
       "      <td>He</td>\n",
       "    </tr>\n",
       "    <tr>\n",
       "      <th>4</th>\n",
       "      <td>885629</td>\n",
       "      <td>Allan</td>\n",
       "      <td>NaN</td>\n",
       "      <td>Deutsch</td>\n",
       "    </tr>\n",
       "  </tbody>\n",
       "</table>\n",
       "</div>"
      ],
      "text/plain": [
       "       ID First_Name Middle_Name Last_Name\n",
       "0  333118     Kelvin         NaN      Higa\n",
       "1  270405    Spencer         NaN   Holover\n",
       "2    4927      Shawn         NaN    Garber\n",
       "3  132587   Yu-Guang         NaN        He\n",
       "4  885629      Allan         NaN   Deutsch"
      ]
     },
     "execution_count": 6,
     "metadata": {},
     "output_type": "execute_result"
    }
   ],
   "source": [
    "doctors.head()"
   ]
  },
  {
   "cell_type": "code",
   "execution_count": 7,
   "metadata": {
    "collapsed": false
   },
   "outputs": [
    {
     "data": {
      "text/html": [
       "<div>\n",
       "<table border=\"1\" class=\"dataframe\">\n",
       "  <thead>\n",
       "    <tr style=\"text-align: right;\">\n",
       "      <th></th>\n",
       "      <th>ID</th>\n",
       "      <th>First_Name</th>\n",
       "      <th>Middle_Name</th>\n",
       "      <th>Last_Name</th>\n",
       "    </tr>\n",
       "  </thead>\n",
       "  <tbody>\n",
       "    <tr>\n",
       "      <th>3815</th>\n",
       "      <td>359</td>\n",
       "      <td>Douglas</td>\n",
       "      <td>K</td>\n",
       "      <td>Blacklidge</td>\n",
       "    </tr>\n",
       "    <tr>\n",
       "      <th>3919</th>\n",
       "      <td>571</td>\n",
       "      <td>Thomas</td>\n",
       "      <td>W</td>\n",
       "      <td>Childress</td>\n",
       "    </tr>\n",
       "    <tr>\n",
       "      <th>4204</th>\n",
       "      <td>869</td>\n",
       "      <td>Szilard</td>\n",
       "      <td>NaN</td>\n",
       "      <td>Kiss</td>\n",
       "    </tr>\n",
       "    <tr>\n",
       "      <th>3864</th>\n",
       "      <td>1073</td>\n",
       "      <td>Kevin</td>\n",
       "      <td>NaN</td>\n",
       "      <td>Gancarczyk</td>\n",
       "    </tr>\n",
       "    <tr>\n",
       "      <th>732</th>\n",
       "      <td>1182</td>\n",
       "      <td>ERIC</td>\n",
       "      <td>A</td>\n",
       "      <td>PIZZA</td>\n",
       "    </tr>\n",
       "  </tbody>\n",
       "</table>\n",
       "</div>"
      ],
      "text/plain": [
       "        ID First_Name Middle_Name   Last_Name\n",
       "3815   359    Douglas           K  Blacklidge\n",
       "3919   571     Thomas           W   Childress\n",
       "4204   869    Szilard         NaN        Kiss\n",
       "3864  1073      Kevin         NaN  Gancarczyk\n",
       "732   1182       ERIC           A       PIZZA"
      ]
     },
     "execution_count": 7,
     "metadata": {},
     "output_type": "execute_result"
    }
   ],
   "source": [
    "# sort by IDs (unneccessary)\n",
    "doctors_sorted = doctors.sort_values('ID')\n",
    "doctors_sorted.head()"
   ]
  },
  {
   "cell_type": "code",
   "execution_count": 8,
   "metadata": {
    "collapsed": false
   },
   "outputs": [
    {
     "name": "stdout",
     "output_type": "stream",
     "text": [
      "3870 unique physicians in data set of 4319 observations.\n",
      "449 observations are associated with physicians with 2 or more investments.\n"
     ]
    }
   ],
   "source": [
    "# count the unique IDs\n",
    "uniq = len(doctors.ID.unique())\n",
    "total = doctors.shape[0]\n",
    "\n",
    "print str(uniq) + \" unique physicians in data set of \" + str(total) + \" observations.\"\n",
    "print str(total - uniq) + \" observations are associated with physicians with 2 or more investments.\""
   ]
  },
  {
   "cell_type": "markdown",
   "metadata": {},
   "source": [
    "## David: Which states / zip codes are associated with the most investments? Does affluence of business zipcode correlate with doctor investment?"
   ]
  },
  {
   "cell_type": "code",
   "execution_count": 9,
   "metadata": {
    "collapsed": false
   },
   "outputs": [
    {
     "data": {
      "text/plain": [
       "4319"
      ]
     },
     "execution_count": 9,
     "metadata": {},
     "output_type": "execute_result"
    }
   ],
   "source": [
    "record_ownership.columns.values\n",
    "len(record_ownership)\n",
    "#record_ownership['Program_Year'].unique()\n",
    "#record_ownership['Terms_of_Interest'].head(25)\n",
    "#record_ownership['Submitting_Applicable_Manufacturer_or_Applicable_GPO_Name'].head(25)\n",
    "#record_ownership['Interest_Held_by_Physician_or_an_Immediate_Family_Member'].head(25)"
   ]
  },
  {
   "cell_type": "code",
   "execution_count": 10,
   "metadata": {
    "collapsed": false
   },
   "outputs": [
    {
     "data": {
      "text/html": [
       "<div>\n",
       "<table border=\"1\" class=\"dataframe\">\n",
       "  <thead>\n",
       "    <tr style=\"text-align: right;\">\n",
       "      <th></th>\n",
       "      <th>Recipient_Primary_Business_Street_Address_Line1</th>\n",
       "      <th>Recipient_Primary_Business_Street_Address_Line2</th>\n",
       "      <th>Recipient_City</th>\n",
       "      <th>Recipient_State</th>\n",
       "      <th>Recipient_Zip_Code</th>\n",
       "      <th>Recipient_Country</th>\n",
       "      <th>Recipient_Province</th>\n",
       "      <th>Recipient_Postal_Code</th>\n",
       "      <th>Physician_Primary_Type</th>\n",
       "      <th>Physician_Specialty</th>\n",
       "      <th>Total_Amount_Invested_USDollars</th>\n",
       "      <th>Applicable_Manufacturer_or_Applicable_GPO_Making_Payment_State</th>\n",
       "      <th>Applicable_Manufacturer_or_Applicable_GPO_Making_Payment_Country</th>\n",
       "      <th>Dispute_Status_for_Publication</th>\n",
       "    </tr>\n",
       "  </thead>\n",
       "  <tbody>\n",
       "    <tr>\n",
       "      <th>0</th>\n",
       "      <td>205 E River Park Circle</td>\n",
       "      <td>Ste 460</td>\n",
       "      <td>Fresno</td>\n",
       "      <td>CA</td>\n",
       "      <td>93720</td>\n",
       "      <td>United States</td>\n",
       "      <td>NaN</td>\n",
       "      <td>NaN</td>\n",
       "      <td>Medical Doctor</td>\n",
       "      <td>Allopathic &amp; Osteopathic Physicians|Surgery</td>\n",
       "      <td>2500.00</td>\n",
       "      <td>WA</td>\n",
       "      <td>United States</td>\n",
       "      <td>No</td>\n",
       "    </tr>\n",
       "    <tr>\n",
       "      <th>1</th>\n",
       "      <td>3003 New Hyde Park Rd</td>\n",
       "      <td>Ste 307</td>\n",
       "      <td>New Hyde Park</td>\n",
       "      <td>NY</td>\n",
       "      <td>11042</td>\n",
       "      <td>United States</td>\n",
       "      <td>NaN</td>\n",
       "      <td>NaN</td>\n",
       "      <td>Medical Doctor</td>\n",
       "      <td>Other Service Providers/ Specialist</td>\n",
       "      <td>24999.69</td>\n",
       "      <td>WA</td>\n",
       "      <td>United States</td>\n",
       "      <td>No</td>\n",
       "    </tr>\n",
       "    <tr>\n",
       "      <th>2</th>\n",
       "      <td>3003 New Hyde Park Rd</td>\n",
       "      <td>Ste 307</td>\n",
       "      <td>New Hyde Park</td>\n",
       "      <td>NY</td>\n",
       "      <td>11042</td>\n",
       "      <td>United States</td>\n",
       "      <td>NaN</td>\n",
       "      <td>NaN</td>\n",
       "      <td>Medical Doctor</td>\n",
       "      <td>Other Service Providers/ Specialist</td>\n",
       "      <td>99998.74</td>\n",
       "      <td>WA</td>\n",
       "      <td>United States</td>\n",
       "      <td>No</td>\n",
       "    </tr>\n",
       "    <tr>\n",
       "      <th>3</th>\n",
       "      <td>5323 Harry Hines Blvd.</td>\n",
       "      <td>NaN</td>\n",
       "      <td>Dallas</td>\n",
       "      <td>TX</td>\n",
       "      <td>75390-9057</td>\n",
       "      <td>United States</td>\n",
       "      <td>NaN</td>\n",
       "      <td>NaN</td>\n",
       "      <td>Medical Doctor</td>\n",
       "      <td>Allopathic &amp; Osteopathic Physicians|Ophthalmology</td>\n",
       "      <td>10000.00</td>\n",
       "      <td>TX</td>\n",
       "      <td>United States</td>\n",
       "      <td>No</td>\n",
       "    </tr>\n",
       "    <tr>\n",
       "      <th>4</th>\n",
       "      <td>345 E 80th St</td>\n",
       "      <td>NaN</td>\n",
       "      <td>New York</td>\n",
       "      <td>NY</td>\n",
       "      <td>10075</td>\n",
       "      <td>United States</td>\n",
       "      <td>NaN</td>\n",
       "      <td>NaN</td>\n",
       "      <td>Doctor of Dentistry</td>\n",
       "      <td>Dental Providers|Dentist|Oral and Maxillofacia...</td>\n",
       "      <td>1548787.00</td>\n",
       "      <td>NJ</td>\n",
       "      <td>United States</td>\n",
       "      <td>No</td>\n",
       "    </tr>\n",
       "  </tbody>\n",
       "</table>\n",
       "</div>"
      ],
      "text/plain": [
       "  Recipient_Primary_Business_Street_Address_Line1  \\\n",
       "0                         205 E River Park Circle   \n",
       "1                           3003 New Hyde Park Rd   \n",
       "2                           3003 New Hyde Park Rd   \n",
       "3                          5323 Harry Hines Blvd.   \n",
       "4                                   345 E 80th St   \n",
       "\n",
       "  Recipient_Primary_Business_Street_Address_Line2 Recipient_City  \\\n",
       "0                                         Ste 460         Fresno   \n",
       "1                                         Ste 307  New Hyde Park   \n",
       "2                                         Ste 307  New Hyde Park   \n",
       "3                                             NaN         Dallas   \n",
       "4                                             NaN       New York   \n",
       "\n",
       "  Recipient_State Recipient_Zip_Code Recipient_Country Recipient_Province  \\\n",
       "0              CA              93720     United States                NaN   \n",
       "1              NY              11042     United States                NaN   \n",
       "2              NY              11042     United States                NaN   \n",
       "3              TX         75390-9057     United States                NaN   \n",
       "4              NY              10075     United States                NaN   \n",
       "\n",
       "   Recipient_Postal_Code Physician_Primary_Type  \\\n",
       "0                    NaN         Medical Doctor   \n",
       "1                    NaN         Medical Doctor   \n",
       "2                    NaN         Medical Doctor   \n",
       "3                    NaN         Medical Doctor   \n",
       "4                    NaN    Doctor of Dentistry   \n",
       "\n",
       "                                 Physician_Specialty  \\\n",
       "0        Allopathic & Osteopathic Physicians|Surgery   \n",
       "1                Other Service Providers/ Specialist   \n",
       "2                Other Service Providers/ Specialist   \n",
       "3  Allopathic & Osteopathic Physicians|Ophthalmology   \n",
       "4  Dental Providers|Dentist|Oral and Maxillofacia...   \n",
       "\n",
       "   Total_Amount_Invested_USDollars  \\\n",
       "0                          2500.00   \n",
       "1                         24999.69   \n",
       "2                         99998.74   \n",
       "3                         10000.00   \n",
       "4                       1548787.00   \n",
       "\n",
       "  Applicable_Manufacturer_or_Applicable_GPO_Making_Payment_State  \\\n",
       "0                                                 WA               \n",
       "1                                                 WA               \n",
       "2                                                 WA               \n",
       "3                                                 TX               \n",
       "4                                                 NJ               \n",
       "\n",
       "  Applicable_Manufacturer_or_Applicable_GPO_Making_Payment_Country  \\\n",
       "0                                      United States                 \n",
       "1                                      United States                 \n",
       "2                                      United States                 \n",
       "3                                      United States                 \n",
       "4                                      United States                 \n",
       "\n",
       "  Dispute_Status_for_Publication  \n",
       "0                             No  \n",
       "1                             No  \n",
       "2                             No  \n",
       "3                             No  \n",
       "4                             No  "
      ]
     },
     "execution_count": 10,
     "metadata": {},
     "output_type": "execute_result"
    }
   ],
   "source": [
    "Geography = record_ownership[['Recipient_Primary_Business_Street_Address_Line1', 'Recipient_Primary_Business_Street_Address_Line2', \n",
    "                             'Recipient_City', 'Recipient_State', 'Recipient_Zip_Code', 'Recipient_Country', 'Recipient_Province', \n",
    "                             'Recipient_Postal_Code', 'Physician_Primary_Type', 'Physician_Specialty', 'Total_Amount_Invested_USDollars',\n",
    "                             'Applicable_Manufacturer_or_Applicable_GPO_Making_Payment_State',\n",
    "                             'Applicable_Manufacturer_or_Applicable_GPO_Making_Payment_Country',\n",
    "                             'Dispute_Status_for_Publication'\n",
    "                            ]]\n",
    "\n",
    "Geography.head()\n"
   ]
  },
  {
   "cell_type": "code",
   "execution_count": 11,
   "metadata": {
    "collapsed": false
   },
   "outputs": [
    {
     "data": {
      "text/plain": [
       "array(['United States', 'United States Minor Outlying Islands',\n",
       "       'United Arab Emirates'], dtype=object)"
      ]
     },
     "execution_count": 11,
     "metadata": {},
     "output_type": "execute_result"
    }
   ],
   "source": [
    "#Geography.groupby('Dispute_Status_for_Publication').count()\n",
    "Geography['Recipient_Country'].unique()"
   ]
  },
  {
   "cell_type": "code",
   "execution_count": 12,
   "metadata": {
    "collapsed": false
   },
   "outputs": [
    {
     "ename": "IOError",
     "evalue": "File data/Income.csv does not exist",
     "output_type": "error",
     "traceback": [
      "\u001b[0;31m---------------------------------------------------------------------------\u001b[0m",
      "\u001b[0;31mIOError\u001b[0m                                   Traceback (most recent call last)",
      "\u001b[0;32m<ipython-input-12-7f49da5a427d>\u001b[0m in \u001b[0;36m<module>\u001b[0;34m()\u001b[0m\n\u001b[1;32m      7\u001b[0m \u001b[1;33m\u001b[0m\u001b[0m\n\u001b[1;32m      8\u001b[0m \u001b[1;31m#Documentation at https://www.irs.gov/pub/irs-soi/14zpdoc.doc\u001b[0m\u001b[1;33m\u001b[0m\u001b[1;33m\u001b[0m\u001b[0m\n\u001b[0;32m----> 9\u001b[0;31m \u001b[0mincome\u001b[0m \u001b[1;33m=\u001b[0m \u001b[0mpd\u001b[0m\u001b[1;33m.\u001b[0m\u001b[0mread_csv\u001b[0m\u001b[1;33m(\u001b[0m\u001b[1;34m'data/Income.csv'\u001b[0m\u001b[1;33m)\u001b[0m\u001b[1;33m\u001b[0m\u001b[0m\n\u001b[0m\u001b[1;32m     10\u001b[0m \u001b[0mincome\u001b[0m\u001b[1;33m.\u001b[0m\u001b[0mhead\u001b[0m\u001b[1;33m(\u001b[0m\u001b[1;33m)\u001b[0m\u001b[1;33m\u001b[0m\u001b[0m\n",
      "\u001b[0;32mC:\\Users\\tyler\\programs\\Anaconda2\\lib\\site-packages\\pandas\\io\\parsers.pyc\u001b[0m in \u001b[0;36mparser_f\u001b[0;34m(filepath_or_buffer, sep, delimiter, header, names, index_col, usecols, squeeze, prefix, mangle_dupe_cols, dtype, engine, converters, true_values, false_values, skipinitialspace, skiprows, nrows, na_values, keep_default_na, na_filter, verbose, skip_blank_lines, parse_dates, infer_datetime_format, keep_date_col, date_parser, dayfirst, iterator, chunksize, compression, thousands, decimal, lineterminator, quotechar, quoting, escapechar, comment, encoding, dialect, tupleize_cols, error_bad_lines, warn_bad_lines, skipfooter, skip_footer, doublequote, delim_whitespace, as_recarray, compact_ints, use_unsigned, low_memory, buffer_lines, memory_map, float_precision)\u001b[0m\n\u001b[1;32m    644\u001b[0m                     skip_blank_lines=skip_blank_lines)\n\u001b[1;32m    645\u001b[0m \u001b[1;33m\u001b[0m\u001b[0m\n\u001b[0;32m--> 646\u001b[0;31m         \u001b[1;32mreturn\u001b[0m \u001b[0m_read\u001b[0m\u001b[1;33m(\u001b[0m\u001b[0mfilepath_or_buffer\u001b[0m\u001b[1;33m,\u001b[0m \u001b[0mkwds\u001b[0m\u001b[1;33m)\u001b[0m\u001b[1;33m\u001b[0m\u001b[0m\n\u001b[0m\u001b[1;32m    647\u001b[0m \u001b[1;33m\u001b[0m\u001b[0m\n\u001b[1;32m    648\u001b[0m     \u001b[0mparser_f\u001b[0m\u001b[1;33m.\u001b[0m\u001b[0m__name__\u001b[0m \u001b[1;33m=\u001b[0m \u001b[0mname\u001b[0m\u001b[1;33m\u001b[0m\u001b[0m\n",
      "\u001b[0;32mC:\\Users\\tyler\\programs\\Anaconda2\\lib\\site-packages\\pandas\\io\\parsers.pyc\u001b[0m in \u001b[0;36m_read\u001b[0;34m(filepath_or_buffer, kwds)\u001b[0m\n\u001b[1;32m    387\u001b[0m \u001b[1;33m\u001b[0m\u001b[0m\n\u001b[1;32m    388\u001b[0m     \u001b[1;31m# Create the parser.\u001b[0m\u001b[1;33m\u001b[0m\u001b[1;33m\u001b[0m\u001b[0m\n\u001b[0;32m--> 389\u001b[0;31m     \u001b[0mparser\u001b[0m \u001b[1;33m=\u001b[0m \u001b[0mTextFileReader\u001b[0m\u001b[1;33m(\u001b[0m\u001b[0mfilepath_or_buffer\u001b[0m\u001b[1;33m,\u001b[0m \u001b[1;33m**\u001b[0m\u001b[0mkwds\u001b[0m\u001b[1;33m)\u001b[0m\u001b[1;33m\u001b[0m\u001b[0m\n\u001b[0m\u001b[1;32m    390\u001b[0m \u001b[1;33m\u001b[0m\u001b[0m\n\u001b[1;32m    391\u001b[0m     \u001b[1;32mif\u001b[0m \u001b[1;33m(\u001b[0m\u001b[0mnrows\u001b[0m \u001b[1;32mis\u001b[0m \u001b[1;32mnot\u001b[0m \u001b[0mNone\u001b[0m\u001b[1;33m)\u001b[0m \u001b[1;32mand\u001b[0m \u001b[1;33m(\u001b[0m\u001b[0mchunksize\u001b[0m \u001b[1;32mis\u001b[0m \u001b[1;32mnot\u001b[0m \u001b[0mNone\u001b[0m\u001b[1;33m)\u001b[0m\u001b[1;33m:\u001b[0m\u001b[1;33m\u001b[0m\u001b[0m\n",
      "\u001b[0;32mC:\\Users\\tyler\\programs\\Anaconda2\\lib\\site-packages\\pandas\\io\\parsers.pyc\u001b[0m in \u001b[0;36m__init__\u001b[0;34m(self, f, engine, **kwds)\u001b[0m\n\u001b[1;32m    728\u001b[0m             \u001b[0mself\u001b[0m\u001b[1;33m.\u001b[0m\u001b[0moptions\u001b[0m\u001b[1;33m[\u001b[0m\u001b[1;34m'has_index_names'\u001b[0m\u001b[1;33m]\u001b[0m \u001b[1;33m=\u001b[0m \u001b[0mkwds\u001b[0m\u001b[1;33m[\u001b[0m\u001b[1;34m'has_index_names'\u001b[0m\u001b[1;33m]\u001b[0m\u001b[1;33m\u001b[0m\u001b[0m\n\u001b[1;32m    729\u001b[0m \u001b[1;33m\u001b[0m\u001b[0m\n\u001b[0;32m--> 730\u001b[0;31m         \u001b[0mself\u001b[0m\u001b[1;33m.\u001b[0m\u001b[0m_make_engine\u001b[0m\u001b[1;33m(\u001b[0m\u001b[0mself\u001b[0m\u001b[1;33m.\u001b[0m\u001b[0mengine\u001b[0m\u001b[1;33m)\u001b[0m\u001b[1;33m\u001b[0m\u001b[0m\n\u001b[0m\u001b[1;32m    731\u001b[0m \u001b[1;33m\u001b[0m\u001b[0m\n\u001b[1;32m    732\u001b[0m     \u001b[1;32mdef\u001b[0m \u001b[0mclose\u001b[0m\u001b[1;33m(\u001b[0m\u001b[0mself\u001b[0m\u001b[1;33m)\u001b[0m\u001b[1;33m:\u001b[0m\u001b[1;33m\u001b[0m\u001b[0m\n",
      "\u001b[0;32mC:\\Users\\tyler\\programs\\Anaconda2\\lib\\site-packages\\pandas\\io\\parsers.pyc\u001b[0m in \u001b[0;36m_make_engine\u001b[0;34m(self, engine)\u001b[0m\n\u001b[1;32m    921\u001b[0m     \u001b[1;32mdef\u001b[0m \u001b[0m_make_engine\u001b[0m\u001b[1;33m(\u001b[0m\u001b[0mself\u001b[0m\u001b[1;33m,\u001b[0m \u001b[0mengine\u001b[0m\u001b[1;33m=\u001b[0m\u001b[1;34m'c'\u001b[0m\u001b[1;33m)\u001b[0m\u001b[1;33m:\u001b[0m\u001b[1;33m\u001b[0m\u001b[0m\n\u001b[1;32m    922\u001b[0m         \u001b[1;32mif\u001b[0m \u001b[0mengine\u001b[0m \u001b[1;33m==\u001b[0m \u001b[1;34m'c'\u001b[0m\u001b[1;33m:\u001b[0m\u001b[1;33m\u001b[0m\u001b[0m\n\u001b[0;32m--> 923\u001b[0;31m             \u001b[0mself\u001b[0m\u001b[1;33m.\u001b[0m\u001b[0m_engine\u001b[0m \u001b[1;33m=\u001b[0m \u001b[0mCParserWrapper\u001b[0m\u001b[1;33m(\u001b[0m\u001b[0mself\u001b[0m\u001b[1;33m.\u001b[0m\u001b[0mf\u001b[0m\u001b[1;33m,\u001b[0m \u001b[1;33m**\u001b[0m\u001b[0mself\u001b[0m\u001b[1;33m.\u001b[0m\u001b[0moptions\u001b[0m\u001b[1;33m)\u001b[0m\u001b[1;33m\u001b[0m\u001b[0m\n\u001b[0m\u001b[1;32m    924\u001b[0m         \u001b[1;32melse\u001b[0m\u001b[1;33m:\u001b[0m\u001b[1;33m\u001b[0m\u001b[0m\n\u001b[1;32m    925\u001b[0m             \u001b[1;32mif\u001b[0m \u001b[0mengine\u001b[0m \u001b[1;33m==\u001b[0m \u001b[1;34m'python'\u001b[0m\u001b[1;33m:\u001b[0m\u001b[1;33m\u001b[0m\u001b[0m\n",
      "\u001b[0;32mC:\\Users\\tyler\\programs\\Anaconda2\\lib\\site-packages\\pandas\\io\\parsers.pyc\u001b[0m in \u001b[0;36m__init__\u001b[0;34m(self, src, **kwds)\u001b[0m\n\u001b[1;32m   1388\u001b[0m         \u001b[0mkwds\u001b[0m\u001b[1;33m[\u001b[0m\u001b[1;34m'allow_leading_cols'\u001b[0m\u001b[1;33m]\u001b[0m \u001b[1;33m=\u001b[0m \u001b[0mself\u001b[0m\u001b[1;33m.\u001b[0m\u001b[0mindex_col\u001b[0m \u001b[1;32mis\u001b[0m \u001b[1;32mnot\u001b[0m \u001b[0mFalse\u001b[0m\u001b[1;33m\u001b[0m\u001b[0m\n\u001b[1;32m   1389\u001b[0m \u001b[1;33m\u001b[0m\u001b[0m\n\u001b[0;32m-> 1390\u001b[0;31m         \u001b[0mself\u001b[0m\u001b[1;33m.\u001b[0m\u001b[0m_reader\u001b[0m \u001b[1;33m=\u001b[0m \u001b[0m_parser\u001b[0m\u001b[1;33m.\u001b[0m\u001b[0mTextReader\u001b[0m\u001b[1;33m(\u001b[0m\u001b[0msrc\u001b[0m\u001b[1;33m,\u001b[0m \u001b[1;33m**\u001b[0m\u001b[0mkwds\u001b[0m\u001b[1;33m)\u001b[0m\u001b[1;33m\u001b[0m\u001b[0m\n\u001b[0m\u001b[1;32m   1391\u001b[0m \u001b[1;33m\u001b[0m\u001b[0m\n\u001b[1;32m   1392\u001b[0m         \u001b[1;31m# XXX\u001b[0m\u001b[1;33m\u001b[0m\u001b[1;33m\u001b[0m\u001b[0m\n",
      "\u001b[0;32mpandas\\parser.pyx\u001b[0m in \u001b[0;36mpandas.parser.TextReader.__cinit__ (pandas\\parser.c:4184)\u001b[0;34m()\u001b[0m\n",
      "\u001b[0;32mpandas\\parser.pyx\u001b[0m in \u001b[0;36mpandas.parser.TextReader._setup_parser_source (pandas\\parser.c:8449)\u001b[0;34m()\u001b[0m\n",
      "\u001b[0;31mIOError\u001b[0m: File data/Income.csv does not exist"
     ]
    }
   ],
   "source": [
    "#import urllib\n",
    "#url = 'https://www.irs.gov/pub/irs-soi/14zpallagi.csv'\n",
    "#response = urllib.urlopen(url)\n",
    "#csv = response.read()\n",
    "#with open('data/Income.csv', 'wb') as f:\n",
    "#    f.write(csv)\n",
    "    \n",
    "#Documentation at https://www.irs.gov/pub/irs-soi/14zpdoc.doc\n",
    "income = pd.read_csv('data/Income.csv')\n",
    "income.head()"
   ]
  },
  {
   "cell_type": "code",
   "execution_count": 13,
   "metadata": {
    "collapsed": false
   },
   "outputs": [
    {
     "ename": "NameError",
     "evalue": "name 'income' is not defined",
     "output_type": "error",
     "traceback": [
      "\u001b[0;31m---------------------------------------------------------------------------\u001b[0m",
      "\u001b[0;31mNameError\u001b[0m                                 Traceback (most recent call last)",
      "\u001b[0;32m<ipython-input-13-7dd3c3d1a9b6>\u001b[0m in \u001b[0;36m<module>\u001b[0;34m()\u001b[0m\n\u001b[0;32m----> 1\u001b[0;31m \u001b[0mincome\u001b[0m \u001b[1;33m=\u001b[0m \u001b[0mincome\u001b[0m\u001b[1;33m[\u001b[0m\u001b[1;33m[\u001b[0m\u001b[1;34m'STATE'\u001b[0m\u001b[1;33m,\u001b[0m \u001b[1;34m'zipcode'\u001b[0m\u001b[1;33m,\u001b[0m \u001b[1;34m'agi_stub'\u001b[0m\u001b[1;33m]\u001b[0m\u001b[1;33m]\u001b[0m\u001b[1;33m\u001b[0m\u001b[0m\n\u001b[0m\u001b[1;32m      2\u001b[0m \u001b[0mincome\u001b[0m \u001b[1;33m=\u001b[0m \u001b[0mincome\u001b[0m\u001b[1;33m[\u001b[0m\u001b[0mincome\u001b[0m\u001b[1;33m[\u001b[0m\u001b[1;34m'zipcode'\u001b[0m\u001b[1;33m]\u001b[0m \u001b[1;33m!=\u001b[0m \u001b[1;36m0\u001b[0m\u001b[1;33m]\u001b[0m\u001b[1;33m\u001b[0m\u001b[0m\n\u001b[1;32m      3\u001b[0m \u001b[1;31m#income.head()\u001b[0m\u001b[1;33m\u001b[0m\u001b[1;33m\u001b[0m\u001b[0m\n\u001b[1;32m      4\u001b[0m \u001b[0mincome\u001b[0m\u001b[1;33m[\u001b[0m\u001b[1;34m'zipcode'\u001b[0m\u001b[1;33m]\u001b[0m \u001b[1;33m=\u001b[0m \u001b[0mincome\u001b[0m\u001b[1;33m[\u001b[0m\u001b[1;34m'zipcode'\u001b[0m\u001b[1;33m]\u001b[0m\u001b[1;33m.\u001b[0m\u001b[0mapply\u001b[0m\u001b[1;33m(\u001b[0m\u001b[1;34m'{:0>5}'\u001b[0m\u001b[1;33m.\u001b[0m\u001b[0mformat\u001b[0m\u001b[1;33m)\u001b[0m\u001b[1;33m\u001b[0m\u001b[0m\n\u001b[1;32m      5\u001b[0m \u001b[1;31m#income[income['zipcode'].apply(lambda x: len(str(x))) == 5]\u001b[0m\u001b[1;33m\u001b[0m\u001b[1;33m\u001b[0m\u001b[0m\n",
      "\u001b[0;31mNameError\u001b[0m: name 'income' is not defined"
     ]
    }
   ],
   "source": [
    "income = income[['STATE', 'zipcode', 'agi_stub']]\n",
    "income = income[income['zipcode'] != 0]\n",
    "#income.head()\n",
    "income['zipcode'] = income['zipcode'].apply('{:0>5}'.format)\n",
    "#income[income['zipcode'].apply(lambda x: len(str(x))) == 5]\n",
    "Geography['zipcode'] = Geography['Recipient_Zip_Code'].apply(lambda s: str(s).split('-')[0]) #.str.split('-')"
   ]
  },
  {
   "cell_type": "code",
   "execution_count": null,
   "metadata": {
    "collapsed": true
   },
   "outputs": [],
   "source": []
  },
  {
   "cell_type": "markdown",
   "metadata": {},
   "source": [
    "## Tyler: Which doctors have invested the most money? In the most companies?"
   ]
  },
  {
   "cell_type": "code",
   "execution_count": 29,
   "metadata": {
    "collapsed": false
   },
   "outputs": [
    {
     "data": {
      "text/plain": [
       "Physician_ID              object\n",
       "Physician_First_Name      object\n",
       "Physician_Middle_Name     object\n",
       "Physician_Last_Name       object\n",
       "Total_Invesment          float64\n",
       "Company_ID                object\n",
       "Company_Name              object\n",
       "dtype: object"
      ]
     },
     "execution_count": 29,
     "metadata": {},
     "output_type": "execute_result"
    }
   ],
   "source": [
    "# get a view of the data we want\n",
    "temp = record_ownership[[\"Physician_Profile_ID\",\n",
    "                         \"Physician_First_Name\",\n",
    "                         \"Physician_Middle_Name\",\n",
    "                         \"Physician_Last_Name\",\n",
    "                         \"Total_Amount_Invested_USDollars\",\n",
    "                         \"Applicable_Manufacturer_or_Applicable_GPO_Making_Payment_ID\",\n",
    "                         \"Applicable_Manufacturer_or_Applicable_GPO_Making_Payment_Name\"]]\n",
    "\n",
    "\n",
    "# build the dataframe out of that view\n",
    "doc_invest = pd.DataFrame(temp, copy=True)\n",
    "doc_invest = doc_invest.rename(columns={\"Physician_Profile_ID\":\"Physician_ID\",\n",
    "                                        \"Total_Amount_Invested_USDollars\":\"Total_Invesment\",\n",
    "                                        \"Applicable_Manufacturer_or_Applicable_GPO_Making_Payment_ID\":\"Company_ID\",\n",
    "                                        \"Applicable_Manufacturer_or_Applicable_GPO_Making_Payment_Name\":\"Company_Name\"})\n",
    "\n",
    "doc_invest = doc_invest.astype({\"Physician_ID\":\"string\",\n",
    "                                \"Physician_First_Name\":\"string\",\n",
    "                                \"Physician_Middle_Name\":\"string\",\n",
    "                                \"Physician_Last_Name\":\"string\",\n",
    "                                \"Company_ID\":\"string\",\n",
    "                                \"Company_Name\":\"string\"})\n",
    "\n",
    "#doc_invest.head()\n",
    "doc_invest.dtypes"
   ]
  },
  {
   "cell_type": "code",
   "execution_count": 52,
   "metadata": {
    "collapsed": false
   },
   "outputs": [
    {
     "data": {
      "text/plain": [
       "3870"
      ]
     },
     "execution_count": 52,
     "metadata": {},
     "output_type": "execute_result"
    }
   ],
   "source": [
    "# Dictionary to hold the doctor:total_investment data\n",
    "investments = {}\n",
    "\n",
    "for doctor in doc_invest[\"Physician_ID\"].unique():\n",
    "    investments[doctor] = np.sum(doc_invest[\"Total_Invesment\"].where(doc_invest[\"Physician_ID\"] == doctor))\n",
    "\n",
    "len(investments)"
   ]
  },
  {
   "cell_type": "markdown",
   "metadata": {},
   "source": [
    "This matches our observation above: 3870 unique physicians in data set of 4319 observations. Which of these 3870 doctors holds the greatest total investments?"
   ]
  },
  {
   "cell_type": "code",
   "execution_count": 53,
   "metadata": {
    "collapsed": false
   },
   "outputs": [
    {
     "data": {
      "text/html": [
       "<div>\n",
       "<table border=\"1\" class=\"dataframe\">\n",
       "  <thead>\n",
       "    <tr style=\"text-align: right;\">\n",
       "      <th></th>\n",
       "      <th>Physician_ID</th>\n",
       "      <th>Physician_First_Name</th>\n",
       "      <th>Physician_Middle_Name</th>\n",
       "      <th>Physician_Last_Name</th>\n",
       "      <th>Total_Invesment</th>\n",
       "      <th>Company_ID</th>\n",
       "      <th>Company_Name</th>\n",
       "    </tr>\n",
       "  </thead>\n",
       "  <tbody>\n",
       "    <tr>\n",
       "      <th>0</th>\n",
       "      <td>333118</td>\n",
       "      <td>Kelvin</td>\n",
       "      <td>nan</td>\n",
       "      <td>Higa</td>\n",
       "      <td>2500.00</td>\n",
       "      <td>100000010963</td>\n",
       "      <td>Endogastric Solutions, Inc</td>\n",
       "    </tr>\n",
       "    <tr>\n",
       "      <th>1</th>\n",
       "      <td>270405</td>\n",
       "      <td>Spencer</td>\n",
       "      <td>nan</td>\n",
       "      <td>Holover</td>\n",
       "      <td>24999.69</td>\n",
       "      <td>100000010963</td>\n",
       "      <td>Endogastric Solutions, Inc</td>\n",
       "    </tr>\n",
       "    <tr>\n",
       "      <th>2</th>\n",
       "      <td>4927</td>\n",
       "      <td>Shawn</td>\n",
       "      <td>nan</td>\n",
       "      <td>Garber</td>\n",
       "      <td>99998.74</td>\n",
       "      <td>100000010963</td>\n",
       "      <td>Endogastric Solutions, Inc</td>\n",
       "    </tr>\n",
       "    <tr>\n",
       "      <th>3</th>\n",
       "      <td>132587</td>\n",
       "      <td>Yu-Guang</td>\n",
       "      <td>nan</td>\n",
       "      <td>He</td>\n",
       "      <td>10000.00</td>\n",
       "      <td>100000005370</td>\n",
       "      <td>Vital Art and Science, LLC</td>\n",
       "    </tr>\n",
       "    <tr>\n",
       "      <th>4</th>\n",
       "      <td>885629</td>\n",
       "      <td>Allan</td>\n",
       "      <td>nan</td>\n",
       "      <td>Deutsch</td>\n",
       "      <td>1548787.00</td>\n",
       "      <td>100000005369</td>\n",
       "      <td>ESSENTIAL DENTAL SYSTEMS INCORPORATED</td>\n",
       "    </tr>\n",
       "  </tbody>\n",
       "</table>\n",
       "</div>"
      ],
      "text/plain": [
       "  Physician_ID Physician_First_Name Physician_Middle_Name Physician_Last_Name  \\\n",
       "0       333118               Kelvin                   nan                Higa   \n",
       "1       270405              Spencer                   nan             Holover   \n",
       "2         4927                Shawn                   nan              Garber   \n",
       "3       132587             Yu-Guang                   nan                  He   \n",
       "4       885629                Allan                   nan             Deutsch   \n",
       "\n",
       "   Total_Invesment    Company_ID                           Company_Name  \n",
       "0          2500.00  100000010963             Endogastric Solutions, Inc  \n",
       "1         24999.69  100000010963             Endogastric Solutions, Inc  \n",
       "2         99998.74  100000010963             Endogastric Solutions, Inc  \n",
       "3         10000.00  100000005370             Vital Art and Science, LLC  \n",
       "4       1548787.00  100000005369  ESSENTIAL DENTAL SYSTEMS INCORPORATED  "
      ]
     },
     "execution_count": 53,
     "metadata": {},
     "output_type": "execute_result"
    }
   ],
   "source": [
    "doc_invest.head()"
   ]
  },
  {
   "cell_type": "code",
   "execution_count": 102,
   "metadata": {
    "collapsed": false
   },
   "outputs": [
    {
     "name": "stdout",
     "output_type": "stream",
     "text": [
      "George  Lopez       ID: 1315076   has invested $199,733,425.11\n",
      "Richard  Sherman    ID: 661336    has invested $10,714,540.75\n",
      "Robert  Swinney     ID: 544922    has invested $6,295,918.17\n",
      "John  Steinmann     ID: 355094    has invested $5,719,872.54\n",
      "ARNOLD M SCHWARTZ   ID: 142810    has invested $4,808,777.18\n",
      "Nicholas  Lembo     ID: 281680    has invested $3,740,111.98\n",
      "FRANK  CAMMISA      ID: 329721    has invested $3,082,015.00\n",
      "Michael  Hartman    ID: 122142    has invested $2,811,717.25\n",
      "Michael  Kovalchik  ID: 622837    has invested $2,658,254.57\n",
      "JOHN  THALGOTT      ID: 350823    has invested $2,411,752.00\n"
     ]
    }
   ],
   "source": [
    "# sort the docs\n",
    "sorted_docs = sorted(investments.items(), # (doctor_id, value)\n",
    "                     key=lambda x: x[1],  # sort on value\n",
    "                     reverse=True)        # biggest to smallest\n",
    "\n",
    "#print sorted_docs[:10]\n",
    "\n",
    "# grab the doctor names via the ID\n",
    "for doc, total in sorted_docs[:10]:\n",
    "    #print \"doctor: \" + str(doc) + \"\\t\\tinvested \" + str(total)\n",
    "    just_doc = doc_invest[doc_invest[\"Physician_ID\"] == doc].head(1)\n",
    "    \n",
    "    doc_f = just_doc.get(\"Physician_First_Name\").values[0]\n",
    "    doc_m = just_doc.get(\"Physician_Middle_Name\").values[0]\n",
    "    doc_l = just_doc.get(\"Physician_Last_Name\").values[0]\n",
    "    \n",
    "    if doc_m == \"nan\":\n",
    "        doc_m = \"\"\n",
    "    \n",
    "    name = str(doc_f) + \" \" + str(doc_m) + \" \" + str(doc_l)\n",
    "    id_n = \"ID: \" + str(doc).ljust(10)\n",
    "    inv  = \"has invested \" + locale.currency(total, grouping = True)\n",
    "    \n",
    "    out_str = name.ljust(20) + id_n + inv\n",
    "    print out_str"
   ]
  },
  {
   "cell_type": "markdown",
   "metadata": {},
   "source": [
    "We can see that the doctor wth the most investments is George Lopez, with nearly \\$200mm total investments. Let's now plot a histogram of the total investments, and see how far away from the mean he is."
   ]
  },
  {
   "cell_type": "code",
   "execution_count": 118,
   "metadata": {
    "collapsed": false
   },
   "outputs": [
    {
     "data": {
      "text/plain": [
       "[]"
      ]
     },
     "execution_count": 118,
     "metadata": {},
     "output_type": "execute_result"
    }
   ],
   "source": [
    "invs = []\n",
    "\n",
    "for d, i in sorted_docs:\n",
    "    invs.append(i)\n",
    "\n",
    "sr = pd.Series(invs)\n",
    "sr.plot.hist(40).plot()\n",
    "#plt.plot(sr, kind='hist')"
   ]
  },
  {
   "cell_type": "code",
   "execution_count": null,
   "metadata": {
    "collapsed": true
   },
   "outputs": [],
   "source": []
  }
 ],
 "metadata": {
  "anaconda-cloud": {},
  "kernelspec": {
   "display_name": "Python 2",
   "language": "python",
   "name": "python2"
  },
  "language_info": {
   "codemirror_mode": {
    "name": "ipython",
    "version": 2
   },
   "file_extension": ".py",
   "mimetype": "text/x-python",
   "name": "python",
   "nbconvert_exporter": "python",
   "pygments_lexer": "ipython2",
   "version": "2.7.13"
  }
 },
 "nbformat": 4,
 "nbformat_minor": 2
}
