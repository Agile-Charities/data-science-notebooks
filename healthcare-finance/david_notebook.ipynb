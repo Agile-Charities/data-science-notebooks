{
 "cells": [
  {
   "cell_type": "markdown",
   "metadata": {},
   "source": [
    "This notebook is sectioned by heading. There is a 'Tyler' section and a 'David' section. If we put our stuff in only our own section, we should be able to work on the same notebook with no issues."
   ]
  },
  {
   "cell_type": "markdown",
   "metadata": {},
   "source": [
    "Things to investigate:\n",
    "\n",
    "- How many investments are by doctors who have multiple investments? (Tyler, done)\n",
    "\n",
    "- Which states / zip codes are associated with the most investments? Does affluence of business zipcode correlate with doctor investment? (David, in progress)\n",
    "\n",
    "- Which doctors have invested the most money? In the most companies?\n",
    "\n",
    "- Which investments were made during or prior to 2015? What is the total sum of these different groups of investments?\n",
    "\n",
    "- Which businesses hold the most investments from doctors? Are they geographically close to each other?"
   ]
  },
  {
   "cell_type": "code",
   "execution_count": 9,
   "metadata": {
    "collapsed": false
   },
   "outputs": [],
   "source": [
    "# library imports\n",
    "import pandas as pd"
   ]
  },
  {
   "cell_type": "code",
   "execution_count": 2,
   "metadata": {
    "collapsed": true
   },
   "outputs": [],
   "source": [
    "#     GNRL is 6 gigabytes - too big\n",
    "# record_general = pd.read_csv('data/OP_DTL_GNRL_PGYR2015_P01172017.csv')\n",
    "#     RSRCH has hundred of bad columns - not good for class\n",
    "# record_research = pd.read_csv('data/OP_DTL_RSRCH_PGYR2015_P01172017.csv')\n",
    "#     REMOVED has very little data, so we're ignoring it for now\n",
    "# record_removed = pd.read_csv('data/OP_REMOVED_DELETED_PGYR2015_P01172017.csv')"
   ]
  },
  {
   "cell_type": "code",
   "execution_count": 10,
   "metadata": {
    "collapsed": false,
    "scrolled": true
   },
   "outputs": [
    {
     "data": {
      "text/plain": [
       "(4319, 29)"
      ]
     },
     "execution_count": 10,
     "metadata": {},
     "output_type": "execute_result"
    }
   ],
   "source": [
    "record_ownership = pd.read_csv('data/OP_DTL_OWNRSHP_PGYR2015_P01172017.csv')\n",
    "record_ownership.shape"
   ]
  },
  {
   "cell_type": "code",
   "execution_count": 11,
   "metadata": {
    "collapsed": false
   },
   "outputs": [
    {
     "data": {
      "text/html": [
       "<div>\n",
       "<table border=\"1\" class=\"dataframe\">\n",
       "  <thead>\n",
       "    <tr style=\"text-align: right;\">\n",
       "      <th></th>\n",
       "      <th>Change_Type</th>\n",
       "      <th>Physician_Profile_ID</th>\n",
       "      <th>Physician_First_Name</th>\n",
       "      <th>Physician_Middle_Name</th>\n",
       "      <th>Physician_Last_Name</th>\n",
       "      <th>Physician_Name_Suffix</th>\n",
       "      <th>Recipient_Primary_Business_Street_Address_Line1</th>\n",
       "      <th>Recipient_Primary_Business_Street_Address_Line2</th>\n",
       "      <th>Recipient_City</th>\n",
       "      <th>Recipient_State</th>\n",
       "      <th>...</th>\n",
       "      <th>Value_of_Interest</th>\n",
       "      <th>Terms_of_Interest</th>\n",
       "      <th>Submitting_Applicable_Manufacturer_or_Applicable_GPO_Name</th>\n",
       "      <th>Applicable_Manufacturer_or_Applicable_GPO_Making_Payment_ID</th>\n",
       "      <th>Applicable_Manufacturer_or_Applicable_GPO_Making_Payment_Name</th>\n",
       "      <th>Applicable_Manufacturer_or_Applicable_GPO_Making_Payment_State</th>\n",
       "      <th>Applicable_Manufacturer_or_Applicable_GPO_Making_Payment_Country</th>\n",
       "      <th>Dispute_Status_for_Publication</th>\n",
       "      <th>Interest_Held_by_Physician_or_an_Immediate_Family_Member</th>\n",
       "      <th>Payment_Publication_Date</th>\n",
       "    </tr>\n",
       "  </thead>\n",
       "  <tbody>\n",
       "    <tr>\n",
       "      <th>4314</th>\n",
       "      <td>UNCHANGED</td>\n",
       "      <td>202555</td>\n",
       "      <td>Alan</td>\n",
       "      <td>NaN</td>\n",
       "      <td>Glassman</td>\n",
       "      <td>NaN</td>\n",
       "      <td>10 E Central Blvd</td>\n",
       "      <td>NaN</td>\n",
       "      <td>Villa Park</td>\n",
       "      <td>IL</td>\n",
       "      <td>...</td>\n",
       "      <td>16.59</td>\n",
       "      <td>Limited Partnership Interest</td>\n",
       "      <td>CCPA Purchasing Partners, L.P.</td>\n",
       "      <td>100000010809</td>\n",
       "      <td>CCPA Purchasing Partners, L.P.</td>\n",
       "      <td>IL</td>\n",
       "      <td>United States</td>\n",
       "      <td>No</td>\n",
       "      <td>Physician Covered Recipient</td>\n",
       "      <td>01/17/2017</td>\n",
       "    </tr>\n",
       "    <tr>\n",
       "      <th>4315</th>\n",
       "      <td>UNCHANGED</td>\n",
       "      <td>359778</td>\n",
       "      <td>Inna</td>\n",
       "      <td>NaN</td>\n",
       "      <td>Milgram</td>\n",
       "      <td>NaN</td>\n",
       "      <td>10 E Central Blvd</td>\n",
       "      <td>NaN</td>\n",
       "      <td>Villa Park</td>\n",
       "      <td>IL</td>\n",
       "      <td>...</td>\n",
       "      <td>16.59</td>\n",
       "      <td>Limited Partnership Interest</td>\n",
       "      <td>CCPA Purchasing Partners, L.P.</td>\n",
       "      <td>100000010809</td>\n",
       "      <td>CCPA Purchasing Partners, L.P.</td>\n",
       "      <td>IL</td>\n",
       "      <td>United States</td>\n",
       "      <td>No</td>\n",
       "      <td>Physician Covered Recipient</td>\n",
       "      <td>01/17/2017</td>\n",
       "    </tr>\n",
       "    <tr>\n",
       "      <th>4316</th>\n",
       "      <td>UNCHANGED</td>\n",
       "      <td>69188</td>\n",
       "      <td>Anthony</td>\n",
       "      <td>NaN</td>\n",
       "      <td>Lin</td>\n",
       "      <td>NaN</td>\n",
       "      <td>10 E Central Blvd</td>\n",
       "      <td>NaN</td>\n",
       "      <td>Villa Park</td>\n",
       "      <td>IL</td>\n",
       "      <td>...</td>\n",
       "      <td>16.59</td>\n",
       "      <td>Limited Partnership Interest</td>\n",
       "      <td>CCPA Purchasing Partners, L.P.</td>\n",
       "      <td>100000010809</td>\n",
       "      <td>CCPA Purchasing Partners, L.P.</td>\n",
       "      <td>IL</td>\n",
       "      <td>United States</td>\n",
       "      <td>No</td>\n",
       "      <td>Physician Covered Recipient</td>\n",
       "      <td>01/17/2017</td>\n",
       "    </tr>\n",
       "    <tr>\n",
       "      <th>4317</th>\n",
       "      <td>UNCHANGED</td>\n",
       "      <td>1278717</td>\n",
       "      <td>Walter</td>\n",
       "      <td>NaN</td>\n",
       "      <td>Campbell</td>\n",
       "      <td>NaN</td>\n",
       "      <td>2401 Ravine Way</td>\n",
       "      <td>101</td>\n",
       "      <td>Glenview</td>\n",
       "      <td>IL</td>\n",
       "      <td>...</td>\n",
       "      <td>64.11</td>\n",
       "      <td>Limited Partnership Interest</td>\n",
       "      <td>CCPA Purchasing Partners, L.P.</td>\n",
       "      <td>100000010809</td>\n",
       "      <td>CCPA Purchasing Partners, L.P.</td>\n",
       "      <td>IL</td>\n",
       "      <td>United States</td>\n",
       "      <td>No</td>\n",
       "      <td>Physician Covered Recipient</td>\n",
       "      <td>01/17/2017</td>\n",
       "    </tr>\n",
       "    <tr>\n",
       "      <th>4318</th>\n",
       "      <td>UNCHANGED</td>\n",
       "      <td>1399122</td>\n",
       "      <td>Alexis</td>\n",
       "      <td>NaN</td>\n",
       "      <td>Bond</td>\n",
       "      <td>NaN</td>\n",
       "      <td>455 S. Roselle Road</td>\n",
       "      <td>209</td>\n",
       "      <td>Schaumburg</td>\n",
       "      <td>IL</td>\n",
       "      <td>...</td>\n",
       "      <td>89.40</td>\n",
       "      <td>Limited Partnership Interest</td>\n",
       "      <td>CCPA Purchasing Partners, L.P.</td>\n",
       "      <td>100000010809</td>\n",
       "      <td>CCPA Purchasing Partners, L.P.</td>\n",
       "      <td>IL</td>\n",
       "      <td>United States</td>\n",
       "      <td>No</td>\n",
       "      <td>Physician Covered Recipient</td>\n",
       "      <td>01/17/2017</td>\n",
       "    </tr>\n",
       "  </tbody>\n",
       "</table>\n",
       "<p>5 rows × 29 columns</p>\n",
       "</div>"
      ],
      "text/plain": [
       "     Change_Type  Physician_Profile_ID Physician_First_Name  \\\n",
       "4314   UNCHANGED                202555                 Alan   \n",
       "4315   UNCHANGED                359778                 Inna   \n",
       "4316   UNCHANGED                 69188              Anthony   \n",
       "4317   UNCHANGED               1278717               Walter   \n",
       "4318   UNCHANGED               1399122               Alexis   \n",
       "\n",
       "     Physician_Middle_Name Physician_Last_Name Physician_Name_Suffix  \\\n",
       "4314                   NaN            Glassman                   NaN   \n",
       "4315                   NaN             Milgram                   NaN   \n",
       "4316                   NaN                 Lin                   NaN   \n",
       "4317                   NaN            Campbell                   NaN   \n",
       "4318                   NaN                Bond                   NaN   \n",
       "\n",
       "     Recipient_Primary_Business_Street_Address_Line1  \\\n",
       "4314                               10 E Central Blvd   \n",
       "4315                               10 E Central Blvd   \n",
       "4316                               10 E Central Blvd   \n",
       "4317                                 2401 Ravine Way   \n",
       "4318                             455 S. Roselle Road   \n",
       "\n",
       "     Recipient_Primary_Business_Street_Address_Line2 Recipient_City  \\\n",
       "4314                                             NaN     Villa Park   \n",
       "4315                                             NaN     Villa Park   \n",
       "4316                                             NaN     Villa Park   \n",
       "4317                                             101       Glenview   \n",
       "4318                                             209     Schaumburg   \n",
       "\n",
       "     Recipient_State            ...            Value_of_Interest  \\\n",
       "4314              IL            ...                        16.59   \n",
       "4315              IL            ...                        16.59   \n",
       "4316              IL            ...                        16.59   \n",
       "4317              IL            ...                        64.11   \n",
       "4318              IL            ...                        89.40   \n",
       "\n",
       "                 Terms_of_Interest  \\\n",
       "4314  Limited Partnership Interest   \n",
       "4315  Limited Partnership Interest   \n",
       "4316  Limited Partnership Interest   \n",
       "4317  Limited Partnership Interest   \n",
       "4318  Limited Partnership Interest   \n",
       "\n",
       "     Submitting_Applicable_Manufacturer_or_Applicable_GPO_Name  \\\n",
       "4314                     CCPA Purchasing Partners, L.P.          \n",
       "4315                     CCPA Purchasing Partners, L.P.          \n",
       "4316                     CCPA Purchasing Partners, L.P.          \n",
       "4317                     CCPA Purchasing Partners, L.P.          \n",
       "4318                     CCPA Purchasing Partners, L.P.          \n",
       "\n",
       "      Applicable_Manufacturer_or_Applicable_GPO_Making_Payment_ID  \\\n",
       "4314                                       100000010809             \n",
       "4315                                       100000010809             \n",
       "4316                                       100000010809             \n",
       "4317                                       100000010809             \n",
       "4318                                       100000010809             \n",
       "\n",
       "     Applicable_Manufacturer_or_Applicable_GPO_Making_Payment_Name  \\\n",
       "4314                     CCPA Purchasing Partners, L.P.              \n",
       "4315                     CCPA Purchasing Partners, L.P.              \n",
       "4316                     CCPA Purchasing Partners, L.P.              \n",
       "4317                     CCPA Purchasing Partners, L.P.              \n",
       "4318                     CCPA Purchasing Partners, L.P.              \n",
       "\n",
       "     Applicable_Manufacturer_or_Applicable_GPO_Making_Payment_State  \\\n",
       "4314                                                 IL               \n",
       "4315                                                 IL               \n",
       "4316                                                 IL               \n",
       "4317                                                 IL               \n",
       "4318                                                 IL               \n",
       "\n",
       "      Applicable_Manufacturer_or_Applicable_GPO_Making_Payment_Country  \\\n",
       "4314                                      United States                  \n",
       "4315                                      United States                  \n",
       "4316                                      United States                  \n",
       "4317                                      United States                  \n",
       "4318                                      United States                  \n",
       "\n",
       "      Dispute_Status_for_Publication  \\\n",
       "4314                              No   \n",
       "4315                              No   \n",
       "4316                              No   \n",
       "4317                              No   \n",
       "4318                              No   \n",
       "\n",
       "      Interest_Held_by_Physician_or_an_Immediate_Family_Member  \\\n",
       "4314                        Physician Covered Recipient          \n",
       "4315                        Physician Covered Recipient          \n",
       "4316                        Physician Covered Recipient          \n",
       "4317                        Physician Covered Recipient          \n",
       "4318                        Physician Covered Recipient          \n",
       "\n",
       "      Payment_Publication_Date  \n",
       "4314                01/17/2017  \n",
       "4315                01/17/2017  \n",
       "4316                01/17/2017  \n",
       "4317                01/17/2017  \n",
       "4318                01/17/2017  \n",
       "\n",
       "[5 rows x 29 columns]"
      ]
     },
     "execution_count": 11,
     "metadata": {},
     "output_type": "execute_result"
    }
   ],
   "source": [
    "record_ownership.tail()"
   ]
  },
  {
   "cell_type": "markdown",
   "metadata": {},
   "source": [
    "## David: Which states / zip codes are associated with the most investments? Does affluence of business zipcode correlate with doctor investment?"
   ]
  },
  {
   "cell_type": "code",
   "execution_count": 9,
   "metadata": {
    "collapsed": false
   },
   "outputs": [
    {
     "data": {
      "text/plain": [
       "4319"
      ]
     },
     "execution_count": 9,
     "metadata": {},
     "output_type": "execute_result"
    }
   ],
   "source": [
    "record_ownership.columns.values\n",
    "len(record_ownership)\n",
    "#record_ownership['Program_Year'].unique()\n",
    "#record_ownership['Terms_of_Interest'].head(25)\n",
    "#record_ownership['Submitting_Applicable_Manufacturer_or_Applicable_GPO_Name'].head(25)\n",
    "#record_ownership['Interest_Held_by_Physician_or_an_Immediate_Family_Member'].head(25)"
   ]
  },
  {
   "cell_type": "code",
   "execution_count": 10,
   "metadata": {
    "collapsed": false
   },
   "outputs": [
    {
     "data": {
      "text/html": [
       "<div>\n",
       "<table border=\"1\" class=\"dataframe\">\n",
       "  <thead>\n",
       "    <tr style=\"text-align: right;\">\n",
       "      <th></th>\n",
       "      <th>Physician_Profile_ID</th>\n",
       "      <th>Recipient_Primary_Business_Street_Address_Line1</th>\n",
       "      <th>Recipient_Primary_Business_Street_Address_Line2</th>\n",
       "      <th>Recipient_City</th>\n",
       "      <th>Recipient_State</th>\n",
       "      <th>Recipient_Zip_Code</th>\n",
       "      <th>Recipient_Country</th>\n",
       "      <th>Recipient_Province</th>\n",
       "      <th>Recipient_Postal_Code</th>\n",
       "      <th>Physician_Primary_Type</th>\n",
       "      <th>Physician_Specialty</th>\n",
       "      <th>Total_Amount_Invested_USDollars</th>\n",
       "      <th>Applicable_Manufacturer_or_Applicable_GPO_Making_Payment_State</th>\n",
       "      <th>Applicable_Manufacturer_or_Applicable_GPO_Making_Payment_Country</th>\n",
       "      <th>Dispute_Status_for_Publication</th>\n",
       "    </tr>\n",
       "  </thead>\n",
       "  <tbody>\n",
       "    <tr>\n",
       "      <th>0</th>\n",
       "      <td>333118</td>\n",
       "      <td>205 E River Park Circle</td>\n",
       "      <td>Ste 460</td>\n",
       "      <td>Fresno</td>\n",
       "      <td>CA</td>\n",
       "      <td>93720</td>\n",
       "      <td>United States</td>\n",
       "      <td>NaN</td>\n",
       "      <td>NaN</td>\n",
       "      <td>Medical Doctor</td>\n",
       "      <td>Allopathic &amp; Osteopathic Physicians|Surgery</td>\n",
       "      <td>2500.00</td>\n",
       "      <td>WA</td>\n",
       "      <td>United States</td>\n",
       "      <td>No</td>\n",
       "    </tr>\n",
       "    <tr>\n",
       "      <th>1</th>\n",
       "      <td>270405</td>\n",
       "      <td>3003 New Hyde Park Rd</td>\n",
       "      <td>Ste 307</td>\n",
       "      <td>New Hyde Park</td>\n",
       "      <td>NY</td>\n",
       "      <td>11042</td>\n",
       "      <td>United States</td>\n",
       "      <td>NaN</td>\n",
       "      <td>NaN</td>\n",
       "      <td>Medical Doctor</td>\n",
       "      <td>Other Service Providers/ Specialist</td>\n",
       "      <td>24999.69</td>\n",
       "      <td>WA</td>\n",
       "      <td>United States</td>\n",
       "      <td>No</td>\n",
       "    </tr>\n",
       "    <tr>\n",
       "      <th>2</th>\n",
       "      <td>4927</td>\n",
       "      <td>3003 New Hyde Park Rd</td>\n",
       "      <td>Ste 307</td>\n",
       "      <td>New Hyde Park</td>\n",
       "      <td>NY</td>\n",
       "      <td>11042</td>\n",
       "      <td>United States</td>\n",
       "      <td>NaN</td>\n",
       "      <td>NaN</td>\n",
       "      <td>Medical Doctor</td>\n",
       "      <td>Other Service Providers/ Specialist</td>\n",
       "      <td>99998.74</td>\n",
       "      <td>WA</td>\n",
       "      <td>United States</td>\n",
       "      <td>No</td>\n",
       "    </tr>\n",
       "    <tr>\n",
       "      <th>3</th>\n",
       "      <td>132587</td>\n",
       "      <td>5323 Harry Hines Blvd.</td>\n",
       "      <td>NaN</td>\n",
       "      <td>Dallas</td>\n",
       "      <td>TX</td>\n",
       "      <td>75390-9057</td>\n",
       "      <td>United States</td>\n",
       "      <td>NaN</td>\n",
       "      <td>NaN</td>\n",
       "      <td>Medical Doctor</td>\n",
       "      <td>Allopathic &amp; Osteopathic Physicians|Ophthalmology</td>\n",
       "      <td>10000.00</td>\n",
       "      <td>TX</td>\n",
       "      <td>United States</td>\n",
       "      <td>No</td>\n",
       "    </tr>\n",
       "    <tr>\n",
       "      <th>4</th>\n",
       "      <td>885629</td>\n",
       "      <td>345 E 80th St</td>\n",
       "      <td>NaN</td>\n",
       "      <td>New York</td>\n",
       "      <td>NY</td>\n",
       "      <td>10075</td>\n",
       "      <td>United States</td>\n",
       "      <td>NaN</td>\n",
       "      <td>NaN</td>\n",
       "      <td>Doctor of Dentistry</td>\n",
       "      <td>Dental Providers|Dentist|Oral and Maxillofacia...</td>\n",
       "      <td>1548787.00</td>\n",
       "      <td>NJ</td>\n",
       "      <td>United States</td>\n",
       "      <td>No</td>\n",
       "    </tr>\n",
       "  </tbody>\n",
       "</table>\n",
       "</div>"
      ],
      "text/plain": [
       "   Physician_Profile_ID Recipient_Primary_Business_Street_Address_Line1  \\\n",
       "0                333118                         205 E River Park Circle   \n",
       "1                270405                           3003 New Hyde Park Rd   \n",
       "2                  4927                           3003 New Hyde Park Rd   \n",
       "3                132587                          5323 Harry Hines Blvd.   \n",
       "4                885629                                   345 E 80th St   \n",
       "\n",
       "  Recipient_Primary_Business_Street_Address_Line2 Recipient_City  \\\n",
       "0                                         Ste 460         Fresno   \n",
       "1                                         Ste 307  New Hyde Park   \n",
       "2                                         Ste 307  New Hyde Park   \n",
       "3                                             NaN         Dallas   \n",
       "4                                             NaN       New York   \n",
       "\n",
       "  Recipient_State Recipient_Zip_Code Recipient_Country Recipient_Province  \\\n",
       "0              CA              93720     United States                NaN   \n",
       "1              NY              11042     United States                NaN   \n",
       "2              NY              11042     United States                NaN   \n",
       "3              TX         75390-9057     United States                NaN   \n",
       "4              NY              10075     United States                NaN   \n",
       "\n",
       "   Recipient_Postal_Code Physician_Primary_Type  \\\n",
       "0                    NaN         Medical Doctor   \n",
       "1                    NaN         Medical Doctor   \n",
       "2                    NaN         Medical Doctor   \n",
       "3                    NaN         Medical Doctor   \n",
       "4                    NaN    Doctor of Dentistry   \n",
       "\n",
       "                                 Physician_Specialty  \\\n",
       "0        Allopathic & Osteopathic Physicians|Surgery   \n",
       "1                Other Service Providers/ Specialist   \n",
       "2                Other Service Providers/ Specialist   \n",
       "3  Allopathic & Osteopathic Physicians|Ophthalmology   \n",
       "4  Dental Providers|Dentist|Oral and Maxillofacia...   \n",
       "\n",
       "   Total_Amount_Invested_USDollars  \\\n",
       "0                          2500.00   \n",
       "1                         24999.69   \n",
       "2                         99998.74   \n",
       "3                         10000.00   \n",
       "4                       1548787.00   \n",
       "\n",
       "  Applicable_Manufacturer_or_Applicable_GPO_Making_Payment_State  \\\n",
       "0                                                 WA               \n",
       "1                                                 WA               \n",
       "2                                                 WA               \n",
       "3                                                 TX               \n",
       "4                                                 NJ               \n",
       "\n",
       "  Applicable_Manufacturer_or_Applicable_GPO_Making_Payment_Country  \\\n",
       "0                                      United States                 \n",
       "1                                      United States                 \n",
       "2                                      United States                 \n",
       "3                                      United States                 \n",
       "4                                      United States                 \n",
       "\n",
       "  Dispute_Status_for_Publication  \n",
       "0                             No  \n",
       "1                             No  \n",
       "2                             No  \n",
       "3                             No  \n",
       "4                             No  "
      ]
     },
     "execution_count": 10,
     "metadata": {},
     "output_type": "execute_result"
    }
   ],
   "source": [
    "temp = record_ownership[['Physician_Profile_ID', 'Recipient_Primary_Business_Street_Address_Line1', 'Recipient_Primary_Business_Street_Address_Line2', \n",
    "                             'Recipient_City', 'Recipient_State', 'Recipient_Zip_Code', 'Recipient_Country', 'Recipient_Province', \n",
    "                             'Recipient_Postal_Code', 'Physician_Primary_Type', 'Physician_Specialty', 'Total_Amount_Invested_USDollars',\n",
    "                             'Applicable_Manufacturer_or_Applicable_GPO_Making_Payment_State',\n",
    "                             'Applicable_Manufacturer_or_Applicable_GPO_Making_Payment_Country',\n",
    "                             'Dispute_Status_for_Publication'\n",
    "                            ]]\n",
    "\n",
    "Geography = pd.DataFrame(temp, copy = True)\n",
    "Geography.head()"
   ]
  },
  {
   "cell_type": "code",
   "execution_count": 11,
   "metadata": {
    "collapsed": false
   },
   "outputs": [
    {
     "data": {
      "text/plain": [
       "array(['United States', 'United States Minor Outlying Islands',\n",
       "       'United Arab Emirates'], dtype=object)"
      ]
     },
     "execution_count": 11,
     "metadata": {},
     "output_type": "execute_result"
    }
   ],
   "source": [
    "#Geography.groupby('Dispute_Status_for_Publication').count()\n",
    "Geography['Recipient_Country'].unique()"
   ]
  },
  {
   "cell_type": "code",
   "execution_count": 12,
   "metadata": {
    "collapsed": false
   },
   "outputs": [
    {
     "data": {
      "text/html": [
       "<div>\n",
       "<table border=\"1\" class=\"dataframe\">\n",
       "  <thead>\n",
       "    <tr style=\"text-align: right;\">\n",
       "      <th></th>\n",
       "      <th>STATEFIPS</th>\n",
       "      <th>STATE</th>\n",
       "      <th>zipcode</th>\n",
       "      <th>agi_stub</th>\n",
       "      <th>N1</th>\n",
       "      <th>mars1</th>\n",
       "      <th>MARS2</th>\n",
       "      <th>MARS4</th>\n",
       "      <th>PREP</th>\n",
       "      <th>N2</th>\n",
       "      <th>...</th>\n",
       "      <th>N10300</th>\n",
       "      <th>A10300</th>\n",
       "      <th>N85530</th>\n",
       "      <th>A85530</th>\n",
       "      <th>N85300</th>\n",
       "      <th>A85300</th>\n",
       "      <th>N11901</th>\n",
       "      <th>A11901</th>\n",
       "      <th>N11902</th>\n",
       "      <th>A11902</th>\n",
       "    </tr>\n",
       "  </thead>\n",
       "  <tbody>\n",
       "    <tr>\n",
       "      <th>0</th>\n",
       "      <td>1</td>\n",
       "      <td>AL</td>\n",
       "      <td>0</td>\n",
       "      <td>1</td>\n",
       "      <td>850050.0</td>\n",
       "      <td>481840.0</td>\n",
       "      <td>115070.0</td>\n",
       "      <td>240450.0</td>\n",
       "      <td>479900.0</td>\n",
       "      <td>1401930.0</td>\n",
       "      <td>...</td>\n",
       "      <td>389850.0</td>\n",
       "      <td>324575.0</td>\n",
       "      <td>0.0</td>\n",
       "      <td>0.0</td>\n",
       "      <td>0.0</td>\n",
       "      <td>0.0</td>\n",
       "      <td>62690.0</td>\n",
       "      <td>47433.0</td>\n",
       "      <td>744910.0</td>\n",
       "      <td>1964826.0</td>\n",
       "    </tr>\n",
       "    <tr>\n",
       "      <th>1</th>\n",
       "      <td>1</td>\n",
       "      <td>AL</td>\n",
       "      <td>0</td>\n",
       "      <td>2</td>\n",
       "      <td>491370.0</td>\n",
       "      <td>200750.0</td>\n",
       "      <td>150290.0</td>\n",
       "      <td>125560.0</td>\n",
       "      <td>281350.0</td>\n",
       "      <td>1016010.0</td>\n",
       "      <td>...</td>\n",
       "      <td>397110.0</td>\n",
       "      <td>950446.0</td>\n",
       "      <td>0.0</td>\n",
       "      <td>0.0</td>\n",
       "      <td>0.0</td>\n",
       "      <td>0.0</td>\n",
       "      <td>70780.0</td>\n",
       "      <td>101969.0</td>\n",
       "      <td>413790.0</td>\n",
       "      <td>1177400.0</td>\n",
       "    </tr>\n",
       "    <tr>\n",
       "      <th>2</th>\n",
       "      <td>1</td>\n",
       "      <td>AL</td>\n",
       "      <td>0</td>\n",
       "      <td>3</td>\n",
       "      <td>259540.0</td>\n",
       "      <td>75820.0</td>\n",
       "      <td>142970.0</td>\n",
       "      <td>34070.0</td>\n",
       "      <td>156720.0</td>\n",
       "      <td>589190.0</td>\n",
       "      <td>...</td>\n",
       "      <td>250230.0</td>\n",
       "      <td>1319641.0</td>\n",
       "      <td>0.0</td>\n",
       "      <td>0.0</td>\n",
       "      <td>0.0</td>\n",
       "      <td>0.0</td>\n",
       "      <td>62170.0</td>\n",
       "      <td>132373.0</td>\n",
       "      <td>192050.0</td>\n",
       "      <td>538160.0</td>\n",
       "    </tr>\n",
       "    <tr>\n",
       "      <th>3</th>\n",
       "      <td>1</td>\n",
       "      <td>AL</td>\n",
       "      <td>0</td>\n",
       "      <td>4</td>\n",
       "      <td>164840.0</td>\n",
       "      <td>26730.0</td>\n",
       "      <td>125410.0</td>\n",
       "      <td>10390.0</td>\n",
       "      <td>99750.0</td>\n",
       "      <td>423300.0</td>\n",
       "      <td>...</td>\n",
       "      <td>163580.0</td>\n",
       "      <td>1394913.0</td>\n",
       "      <td>0.0</td>\n",
       "      <td>0.0</td>\n",
       "      <td>0.0</td>\n",
       "      <td>0.0</td>\n",
       "      <td>45120.0</td>\n",
       "      <td>124048.0</td>\n",
       "      <td>115470.0</td>\n",
       "      <td>375882.0</td>\n",
       "    </tr>\n",
       "    <tr>\n",
       "      <th>4</th>\n",
       "      <td>1</td>\n",
       "      <td>AL</td>\n",
       "      <td>0</td>\n",
       "      <td>5</td>\n",
       "      <td>203650.0</td>\n",
       "      <td>18990.0</td>\n",
       "      <td>177070.0</td>\n",
       "      <td>5860.0</td>\n",
       "      <td>122670.0</td>\n",
       "      <td>565930.0</td>\n",
       "      <td>...</td>\n",
       "      <td>203050.0</td>\n",
       "      <td>3655700.0</td>\n",
       "      <td>610.0</td>\n",
       "      <td>135.0</td>\n",
       "      <td>270.0</td>\n",
       "      <td>66.0</td>\n",
       "      <td>81180.0</td>\n",
       "      <td>387298.0</td>\n",
       "      <td>114380.0</td>\n",
       "      <td>448442.0</td>\n",
       "    </tr>\n",
       "  </tbody>\n",
       "</table>\n",
       "<p>5 rows × 127 columns</p>\n",
       "</div>"
      ],
      "text/plain": [
       "   STATEFIPS STATE  zipcode  agi_stub        N1     mars1     MARS2     MARS4  \\\n",
       "0          1    AL        0         1  850050.0  481840.0  115070.0  240450.0   \n",
       "1          1    AL        0         2  491370.0  200750.0  150290.0  125560.0   \n",
       "2          1    AL        0         3  259540.0   75820.0  142970.0   34070.0   \n",
       "3          1    AL        0         4  164840.0   26730.0  125410.0   10390.0   \n",
       "4          1    AL        0         5  203650.0   18990.0  177070.0    5860.0   \n",
       "\n",
       "       PREP         N2    ...        N10300     A10300  N85530  A85530  \\\n",
       "0  479900.0  1401930.0    ...      389850.0   324575.0     0.0     0.0   \n",
       "1  281350.0  1016010.0    ...      397110.0   950446.0     0.0     0.0   \n",
       "2  156720.0   589190.0    ...      250230.0  1319641.0     0.0     0.0   \n",
       "3   99750.0   423300.0    ...      163580.0  1394913.0     0.0     0.0   \n",
       "4  122670.0   565930.0    ...      203050.0  3655700.0   610.0   135.0   \n",
       "\n",
       "   N85300  A85300   N11901    A11901    N11902     A11902  \n",
       "0     0.0     0.0  62690.0   47433.0  744910.0  1964826.0  \n",
       "1     0.0     0.0  70780.0  101969.0  413790.0  1177400.0  \n",
       "2     0.0     0.0  62170.0  132373.0  192050.0   538160.0  \n",
       "3     0.0     0.0  45120.0  124048.0  115470.0   375882.0  \n",
       "4   270.0    66.0  81180.0  387298.0  114380.0   448442.0  \n",
       "\n",
       "[5 rows x 127 columns]"
      ]
     },
     "execution_count": 12,
     "metadata": {},
     "output_type": "execute_result"
    }
   ],
   "source": [
    "#import urllib\n",
    "#url = 'https://www.irs.gov/pub/irs-soi/14zpallagi.csv'\n",
    "#response = urllib.urlopen(url)\n",
    "#csv = response.read()\n",
    "#with open('data/Income.csv', 'wb') as f:\n",
    "#    f.write(csv)\n",
    "    \n",
    "#Documentation at https://www.irs.gov/pub/irs-soi/14zpdoc.doc\n",
    "income = pd.read_csv('data/Income.csv')\n",
    "income.head()"
   ]
  },
  {
   "cell_type": "code",
   "execution_count": 13,
   "metadata": {
    "collapsed": false
   },
   "outputs": [
    {
     "data": {
      "text/html": [
       "<div>\n",
       "<table border=\"1\" class=\"dataframe\">\n",
       "  <thead>\n",
       "    <tr style=\"text-align: right;\">\n",
       "      <th></th>\n",
       "      <th>STATE</th>\n",
       "      <th>zipcode</th>\n",
       "      <th>agi_stub</th>\n",
       "      <th>N1</th>\n",
       "      <th>N2</th>\n",
       "    </tr>\n",
       "  </thead>\n",
       "  <tbody>\n",
       "    <tr>\n",
       "      <th>6</th>\n",
       "      <td>AL</td>\n",
       "      <td>35004</td>\n",
       "      <td>1</td>\n",
       "      <td>1510.0</td>\n",
       "      <td>1510.0</td>\n",
       "    </tr>\n",
       "    <tr>\n",
       "      <th>7</th>\n",
       "      <td>AL</td>\n",
       "      <td>35004</td>\n",
       "      <td>2</td>\n",
       "      <td>1280.0</td>\n",
       "      <td>2560.0</td>\n",
       "    </tr>\n",
       "    <tr>\n",
       "      <th>8</th>\n",
       "      <td>AL</td>\n",
       "      <td>35004</td>\n",
       "      <td>3</td>\n",
       "      <td>920.0</td>\n",
       "      <td>2760.0</td>\n",
       "    </tr>\n",
       "    <tr>\n",
       "      <th>9</th>\n",
       "      <td>AL</td>\n",
       "      <td>35004</td>\n",
       "      <td>4</td>\n",
       "      <td>630.0</td>\n",
       "      <td>2520.0</td>\n",
       "    </tr>\n",
       "    <tr>\n",
       "      <th>10</th>\n",
       "      <td>AL</td>\n",
       "      <td>35004</td>\n",
       "      <td>5</td>\n",
       "      <td>590.0</td>\n",
       "      <td>2950.0</td>\n",
       "    </tr>\n",
       "  </tbody>\n",
       "</table>\n",
       "</div>"
      ],
      "text/plain": [
       "   STATE zipcode  agi_stub      N1      N2\n",
       "6     AL   35004         1  1510.0  1510.0\n",
       "7     AL   35004         2  1280.0  2560.0\n",
       "8     AL   35004         3   920.0  2760.0\n",
       "9     AL   35004         4   630.0  2520.0\n",
       "10    AL   35004         5   590.0  2950.0"
      ]
     },
     "execution_count": 13,
     "metadata": {},
     "output_type": "execute_result"
    }
   ],
   "source": [
    "income = income[['STATE', 'zipcode', 'agi_stub', 'N1']]\n",
    "income = income[income['zipcode'] != 0]\n",
    "income['zipcode'] = income['zipcode'].apply('{:0>5}'.format)\n",
    "income['N2'] = income['agi_stub'] * income['N1']\n",
    "income.head()"
   ]
  },
  {
   "cell_type": "code",
   "execution_count": 14,
   "metadata": {
    "collapsed": false
   },
   "outputs": [
    {
     "data": {
      "text/html": [
       "<div>\n",
       "<table border=\"1\" class=\"dataframe\">\n",
       "  <thead>\n",
       "    <tr style=\"text-align: right;\">\n",
       "      <th></th>\n",
       "      <th>Physician_Profile_ID</th>\n",
       "      <th>Recipient_Primary_Business_Street_Address_Line1</th>\n",
       "      <th>Recipient_Primary_Business_Street_Address_Line2</th>\n",
       "      <th>Recipient_City</th>\n",
       "      <th>Recipient_State</th>\n",
       "      <th>zipcode</th>\n",
       "      <th>Recipient_Country</th>\n",
       "      <th>Recipient_Province</th>\n",
       "      <th>Recipient_Postal_Code</th>\n",
       "      <th>Physician_Primary_Type</th>\n",
       "      <th>Physician_Specialty</th>\n",
       "      <th>Total_Amount_Invested_USDollars</th>\n",
       "      <th>Applicable_Manufacturer_or_Applicable_GPO_Making_Payment_State</th>\n",
       "      <th>Applicable_Manufacturer_or_Applicable_GPO_Making_Payment_Country</th>\n",
       "      <th>Dispute_Status_for_Publication</th>\n",
       "    </tr>\n",
       "  </thead>\n",
       "  <tbody>\n",
       "    <tr>\n",
       "      <th>0</th>\n",
       "      <td>333118</td>\n",
       "      <td>205 E River Park Circle</td>\n",
       "      <td>Ste 460</td>\n",
       "      <td>Fresno</td>\n",
       "      <td>CA</td>\n",
       "      <td>93720</td>\n",
       "      <td>United States</td>\n",
       "      <td>NaN</td>\n",
       "      <td>NaN</td>\n",
       "      <td>Medical Doctor</td>\n",
       "      <td>Allopathic &amp; Osteopathic Physicians|Surgery</td>\n",
       "      <td>2500.00</td>\n",
       "      <td>WA</td>\n",
       "      <td>United States</td>\n",
       "      <td>No</td>\n",
       "    </tr>\n",
       "    <tr>\n",
       "      <th>1</th>\n",
       "      <td>270405</td>\n",
       "      <td>3003 New Hyde Park Rd</td>\n",
       "      <td>Ste 307</td>\n",
       "      <td>New Hyde Park</td>\n",
       "      <td>NY</td>\n",
       "      <td>11042</td>\n",
       "      <td>United States</td>\n",
       "      <td>NaN</td>\n",
       "      <td>NaN</td>\n",
       "      <td>Medical Doctor</td>\n",
       "      <td>Other Service Providers/ Specialist</td>\n",
       "      <td>24999.69</td>\n",
       "      <td>WA</td>\n",
       "      <td>United States</td>\n",
       "      <td>No</td>\n",
       "    </tr>\n",
       "    <tr>\n",
       "      <th>2</th>\n",
       "      <td>4927</td>\n",
       "      <td>3003 New Hyde Park Rd</td>\n",
       "      <td>Ste 307</td>\n",
       "      <td>New Hyde Park</td>\n",
       "      <td>NY</td>\n",
       "      <td>11042</td>\n",
       "      <td>United States</td>\n",
       "      <td>NaN</td>\n",
       "      <td>NaN</td>\n",
       "      <td>Medical Doctor</td>\n",
       "      <td>Other Service Providers/ Specialist</td>\n",
       "      <td>99998.74</td>\n",
       "      <td>WA</td>\n",
       "      <td>United States</td>\n",
       "      <td>No</td>\n",
       "    </tr>\n",
       "    <tr>\n",
       "      <th>3</th>\n",
       "      <td>132587</td>\n",
       "      <td>5323 Harry Hines Blvd.</td>\n",
       "      <td>NaN</td>\n",
       "      <td>Dallas</td>\n",
       "      <td>TX</td>\n",
       "      <td>75390</td>\n",
       "      <td>United States</td>\n",
       "      <td>NaN</td>\n",
       "      <td>NaN</td>\n",
       "      <td>Medical Doctor</td>\n",
       "      <td>Allopathic &amp; Osteopathic Physicians|Ophthalmology</td>\n",
       "      <td>10000.00</td>\n",
       "      <td>TX</td>\n",
       "      <td>United States</td>\n",
       "      <td>No</td>\n",
       "    </tr>\n",
       "    <tr>\n",
       "      <th>4</th>\n",
       "      <td>885629</td>\n",
       "      <td>345 E 80th St</td>\n",
       "      <td>NaN</td>\n",
       "      <td>New York</td>\n",
       "      <td>NY</td>\n",
       "      <td>10075</td>\n",
       "      <td>United States</td>\n",
       "      <td>NaN</td>\n",
       "      <td>NaN</td>\n",
       "      <td>Doctor of Dentistry</td>\n",
       "      <td>Dental Providers|Dentist|Oral and Maxillofacia...</td>\n",
       "      <td>1548787.00</td>\n",
       "      <td>NJ</td>\n",
       "      <td>United States</td>\n",
       "      <td>No</td>\n",
       "    </tr>\n",
       "  </tbody>\n",
       "</table>\n",
       "</div>"
      ],
      "text/plain": [
       "   Physician_Profile_ID Recipient_Primary_Business_Street_Address_Line1  \\\n",
       "0                333118                         205 E River Park Circle   \n",
       "1                270405                           3003 New Hyde Park Rd   \n",
       "2                  4927                           3003 New Hyde Park Rd   \n",
       "3                132587                          5323 Harry Hines Blvd.   \n",
       "4                885629                                   345 E 80th St   \n",
       "\n",
       "  Recipient_Primary_Business_Street_Address_Line2 Recipient_City  \\\n",
       "0                                         Ste 460         Fresno   \n",
       "1                                         Ste 307  New Hyde Park   \n",
       "2                                         Ste 307  New Hyde Park   \n",
       "3                                             NaN         Dallas   \n",
       "4                                             NaN       New York   \n",
       "\n",
       "  Recipient_State zipcode Recipient_Country Recipient_Province  \\\n",
       "0              CA   93720     United States                NaN   \n",
       "1              NY   11042     United States                NaN   \n",
       "2              NY   11042     United States                NaN   \n",
       "3              TX   75390     United States                NaN   \n",
       "4              NY   10075     United States                NaN   \n",
       "\n",
       "   Recipient_Postal_Code Physician_Primary_Type  \\\n",
       "0                    NaN         Medical Doctor   \n",
       "1                    NaN         Medical Doctor   \n",
       "2                    NaN         Medical Doctor   \n",
       "3                    NaN         Medical Doctor   \n",
       "4                    NaN    Doctor of Dentistry   \n",
       "\n",
       "                                 Physician_Specialty  \\\n",
       "0        Allopathic & Osteopathic Physicians|Surgery   \n",
       "1                Other Service Providers/ Specialist   \n",
       "2                Other Service Providers/ Specialist   \n",
       "3  Allopathic & Osteopathic Physicians|Ophthalmology   \n",
       "4  Dental Providers|Dentist|Oral and Maxillofacia...   \n",
       "\n",
       "   Total_Amount_Invested_USDollars  \\\n",
       "0                          2500.00   \n",
       "1                         24999.69   \n",
       "2                         99998.74   \n",
       "3                         10000.00   \n",
       "4                       1548787.00   \n",
       "\n",
       "  Applicable_Manufacturer_or_Applicable_GPO_Making_Payment_State  \\\n",
       "0                                                 WA               \n",
       "1                                                 WA               \n",
       "2                                                 WA               \n",
       "3                                                 TX               \n",
       "4                                                 NJ               \n",
       "\n",
       "  Applicable_Manufacturer_or_Applicable_GPO_Making_Payment_Country  \\\n",
       "0                                      United States                 \n",
       "1                                      United States                 \n",
       "2                                      United States                 \n",
       "3                                      United States                 \n",
       "4                                      United States                 \n",
       "\n",
       "  Dispute_Status_for_Publication  \n",
       "0                             No  \n",
       "1                             No  \n",
       "2                             No  \n",
       "3                             No  \n",
       "4                             No  "
      ]
     },
     "execution_count": 14,
     "metadata": {},
     "output_type": "execute_result"
    }
   ],
   "source": [
    "Geography['Recipient_Zip_Code'] = Geography['Recipient_Zip_Code'].apply(lambda s: str(s).split('-')[0]) #.str.split('-')\n",
    "Geography.rename(columns={'Recipient_Zip_Code': 'zipcode'}, inplace=True)\n",
    "Geography.head()"
   ]
  },
  {
   "cell_type": "code",
   "execution_count": 15,
   "metadata": {
    "collapsed": false
   },
   "outputs": [
    {
     "data": {
      "text/plain": [
       "zipcode\n",
       "01001    2.515766\n",
       "01002    2.761411\n",
       "01005    2.631579\n",
       "01007    2.821380\n",
       "01008    2.718750\n",
       "dtype: float64"
      ]
     },
     "execution_count": 15,
     "metadata": {},
     "output_type": "execute_result"
    }
   ],
   "source": [
    "wtmeaninc = income.groupby(['zipcode']).mean()\n",
    "wtmeaninc = wtmeaninc['N2']/wtmeaninc['N1']\n",
    "wtmeaninc.head()\n",
    "#is weighted mean income by zip"
   ]
  },
  {
   "cell_type": "code",
   "execution_count": 16,
   "metadata": {
    "collapsed": false
   },
   "outputs": [
    {
     "data": {
      "text/plain": [
       "zipcode\n",
       "00907     50000.0\n",
       "00909     50000.0\n",
       "00969    150000.0\n",
       "01104      3000.0\n",
       "01532      9900.0\n",
       "Name: Total_Amount_Invested_USDollars, dtype: float64"
      ]
     },
     "execution_count": 16,
     "metadata": {},
     "output_type": "execute_result"
    }
   ],
   "source": [
    "totalinv = Geography.groupby(['zipcode']).sum()['Total_Amount_Invested_USDollars']\n",
    "#Combine = pd.merge(income, Geography, how='outer', on='zipcode')\n",
    "#income.head()\n",
    "totalinv.head()"
   ]
  },
  {
   "cell_type": "code",
   "execution_count": 17,
   "metadata": {
    "collapsed": false
   },
   "outputs": [
    {
     "data": {
      "text/plain": [
       "zipcode\n",
       "00907    1\n",
       "00909    1\n",
       "00969    1\n",
       "01104    1\n",
       "01532    1\n",
       "Name: Total_Amount_Invested_USDollars, dtype: int64"
      ]
     },
     "execution_count": 17,
     "metadata": {},
     "output_type": "execute_result"
    }
   ],
   "source": [
    "numdocs = Geography.groupby(['zipcode']).count()['Total_Amount_Invested_USDollars']\n",
    "numdocs.head()"
   ]
  },
  {
   "cell_type": "code",
   "execution_count": 18,
   "metadata": {
    "collapsed": false
   },
   "outputs": [
    {
     "data": {
      "text/html": [
       "<div>\n",
       "<table border=\"1\" class=\"dataframe\">\n",
       "  <thead>\n",
       "    <tr style=\"text-align: right;\">\n",
       "      <th></th>\n",
       "      <th>WeightedMeanIncomeBracket</th>\n",
       "      <th>TotalInvestedUSD</th>\n",
       "      <th>NumberOfDoctors</th>\n",
       "    </tr>\n",
       "  </thead>\n",
       "  <tbody>\n",
       "    <tr>\n",
       "      <th>01104</th>\n",
       "      <td>1.832669</td>\n",
       "      <td>3000.0</td>\n",
       "      <td>1.0</td>\n",
       "    </tr>\n",
       "    <tr>\n",
       "      <th>01532</th>\n",
       "      <td>3.238462</td>\n",
       "      <td>9900.0</td>\n",
       "      <td>1.0</td>\n",
       "    </tr>\n",
       "    <tr>\n",
       "      <th>01604</th>\n",
       "      <td>2.204253</td>\n",
       "      <td>10000.0</td>\n",
       "      <td>2.0</td>\n",
       "    </tr>\n",
       "    <tr>\n",
       "      <th>01605</th>\n",
       "      <td>2.091301</td>\n",
       "      <td>30000.0</td>\n",
       "      <td>1.0</td>\n",
       "    </tr>\n",
       "    <tr>\n",
       "      <th>01824</th>\n",
       "      <td>3.196483</td>\n",
       "      <td>8000.0</td>\n",
       "      <td>1.0</td>\n",
       "    </tr>\n",
       "  </tbody>\n",
       "</table>\n",
       "</div>"
      ],
      "text/plain": [
       "       WeightedMeanIncomeBracket  TotalInvestedUSD  NumberOfDoctors\n",
       "01104                   1.832669            3000.0              1.0\n",
       "01532                   3.238462            9900.0              1.0\n",
       "01604                   2.204253           10000.0              2.0\n",
       "01605                   2.091301           30000.0              1.0\n",
       "01824                   3.196483            8000.0              1.0"
      ]
     },
     "execution_count": 18,
     "metadata": {},
     "output_type": "execute_result"
    }
   ],
   "source": [
    "combined = pd.concat([wtmeaninc, totalinv, numdocs], axis=1).dropna()\n",
    "combined.columns = ['WeightedMeanIncomeBracket', 'TotalInvestedUSD', 'NumberOfDoctors']\n",
    "combined.head()"
   ]
  },
  {
   "cell_type": "code",
   "execution_count": 19,
   "metadata": {
    "collapsed": false
   },
   "outputs": [
    {
     "data": {
      "text/html": [
       "<div>\n",
       "<table border=\"1\" class=\"dataframe\">\n",
       "  <thead>\n",
       "    <tr style=\"text-align: right;\">\n",
       "      <th></th>\n",
       "      <th>WeightedMeanIncomeBracket</th>\n",
       "      <th>TotalInvestedUSD</th>\n",
       "      <th>NumberOfDoctors</th>\n",
       "      <th>PerDrInvest</th>\n",
       "    </tr>\n",
       "  </thead>\n",
       "  <tbody>\n",
       "    <tr>\n",
       "      <th>01104</th>\n",
       "      <td>1.832669</td>\n",
       "      <td>3000.0</td>\n",
       "      <td>1.0</td>\n",
       "      <td>3000.0</td>\n",
       "    </tr>\n",
       "    <tr>\n",
       "      <th>01532</th>\n",
       "      <td>3.238462</td>\n",
       "      <td>9900.0</td>\n",
       "      <td>1.0</td>\n",
       "      <td>9900.0</td>\n",
       "    </tr>\n",
       "    <tr>\n",
       "      <th>01604</th>\n",
       "      <td>2.204253</td>\n",
       "      <td>10000.0</td>\n",
       "      <td>2.0</td>\n",
       "      <td>5000.0</td>\n",
       "    </tr>\n",
       "    <tr>\n",
       "      <th>01605</th>\n",
       "      <td>2.091301</td>\n",
       "      <td>30000.0</td>\n",
       "      <td>1.0</td>\n",
       "      <td>30000.0</td>\n",
       "    </tr>\n",
       "    <tr>\n",
       "      <th>01824</th>\n",
       "      <td>3.196483</td>\n",
       "      <td>8000.0</td>\n",
       "      <td>1.0</td>\n",
       "      <td>8000.0</td>\n",
       "    </tr>\n",
       "  </tbody>\n",
       "</table>\n",
       "</div>"
      ],
      "text/plain": [
       "       WeightedMeanIncomeBracket  TotalInvestedUSD  NumberOfDoctors  \\\n",
       "01104                   1.832669            3000.0              1.0   \n",
       "01532                   3.238462            9900.0              1.0   \n",
       "01604                   2.204253           10000.0              2.0   \n",
       "01605                   2.091301           30000.0              1.0   \n",
       "01824                   3.196483            8000.0              1.0   \n",
       "\n",
       "       PerDrInvest  \n",
       "01104       3000.0  \n",
       "01532       9900.0  \n",
       "01604       5000.0  \n",
       "01605      30000.0  \n",
       "01824       8000.0  "
      ]
     },
     "execution_count": 19,
     "metadata": {},
     "output_type": "execute_result"
    }
   ],
   "source": [
    "combined.astype(float, inplace = True)\n",
    "combined['PerDrInvest'] = combined['TotalInvestedUSD']/combined['NumberOfDoctors']\n",
    "combined.head()"
   ]
  },
  {
   "cell_type": "code",
   "execution_count": 23,
   "metadata": {
    "collapsed": false
   },
   "outputs": [
    {
     "data": {
      "text/plain": [
       "NormaltestResult(statistic=41.641190894534866, pvalue=9.0725691560111839e-10)"
      ]
     },
     "execution_count": 23,
     "metadata": {},
     "output_type": "execute_result"
    }
   ],
   "source": [
    "#combined['WeightedMeanIncomeBracket'].head()\n",
    "#import scipy\n",
    "from scipy import stats\n",
    "stats.normaltest(combined['WeightedMeanIncomeBracket'])"
   ]
  },
  {
   "cell_type": "code",
   "execution_count": 24,
   "metadata": {
    "collapsed": false
   },
   "outputs": [
    {
     "data": {
      "text/plain": [
       "NormaltestResult(statistic=3883.4213925528334, pvalue=0.0)"
      ]
     },
     "execution_count": 24,
     "metadata": {},
     "output_type": "execute_result"
    }
   ],
   "source": [
    "stats.normaltest(combined['PerDrInvest'])"
   ]
  },
  {
   "cell_type": "code",
   "execution_count": 26,
   "metadata": {
    "collapsed": false
   },
   "outputs": [
    {
     "data": {
      "text/plain": [
       "SpearmanrResult(correlation=0.037739967332294407, pvalue=0.16531799247485487)"
      ]
     },
     "execution_count": 26,
     "metadata": {},
     "output_type": "execute_result"
    }
   ],
   "source": [
    "stats.spearmanr(combined['WeightedMeanIncomeBracket'], combined['PerDrInvest'], axis=0)"
   ]
  },
  {
   "cell_type": "code",
   "execution_count": 27,
   "metadata": {
    "collapsed": false
   },
   "outputs": [
    {
     "data": {
      "image/png": "[encoded data removed]",
      "text/plain": [
       "<matplotlib.figure.Figure at 0x13468208>"
      ]
     },
     "metadata": {},
     "output_type": "display_data"
    }
   ],
   "source": [
    "import matplotlib.pyplot\n",
    "import pylab\n",
    "\n",
    "matplotlib.pyplot.scatter(combined['WeightedMeanIncomeBracket'],combined['PerDrInvest'])\n",
    "\n",
    "matplotlib.pyplot.show()"
   ]
  },
  {
   "cell_type": "code",
   "execution_count": 29,
   "metadata": {
    "collapsed": false
   },
   "outputs": [
    {
     "data": {
      "image/png": "[encoded data removed]",
      "text/plain": [
       "<matplotlib.figure.Figure at 0xe8fdd30>"
      ]
     },
     "metadata": {},
     "output_type": "display_data"
    }
   ],
   "source": [
    "outlier = combined['TotalInvestedUSD'].argmax()\n",
    "combined.drop(combined['TotalInvestedUSD'].argmax(), inplace = True)\n",
    "combined.drop(combined['TotalInvestedUSD'].argmax(), inplace = True)\n",
    "matplotlib.pyplot.scatter(combined['WeightedMeanIncomeBracket'],combined['PerDrInvest'])\n",
    "matplotlib.pyplot.show()"
   ]
  },
  {
   "cell_type": "code",
   "execution_count": 32,
   "metadata": {
    "collapsed": false
   },
   "outputs": [
    {
     "data": {
      "text/plain": [
       "SpearmanrResult(correlation=0.037179598648737551, pvalue=0.17216748192372278)"
      ]
     },
     "execution_count": 32,
     "metadata": {},
     "output_type": "execute_result"
    }
   ],
   "source": [
    "stats.spearmanr(combined['WeightedMeanIncomeBracket'], combined['PerDrInvest'], axis=0)"
   ]
  }
 ],
 "metadata": {
  "anaconda-cloud": {},
  "kernelspec": {
   "display_name": "Python [default]",
   "language": "python",
   "name": "python2"
  },
  "language_info": {
   "codemirror_mode": {
    "name": "ipython",
    "version": 2
   },
   "file_extension": ".py",
   "mimetype": "text/x-python",
   "name": "python",
   "nbconvert_exporter": "python",
   "pygments_lexer": "ipython2",
   "version": "2.7.12"
  }
 },
 "nbformat": 4,
 "nbformat_minor": 2
}
