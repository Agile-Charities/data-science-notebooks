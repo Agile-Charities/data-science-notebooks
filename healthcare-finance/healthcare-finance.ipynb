{
 "cells": [
  {
   "cell_type": "markdown",
   "metadata": {},
   "source": [
    "This notebook is sectioned by heading. There is a 'Tyler' section and a 'David' section. If we put our stuff in only our own section, we should be able to work on the same notebook with no issues."
   ]
  },
  {
   "cell_type": "code",
   "execution_count": 15,
   "metadata": {
    "collapsed": false
   },
   "outputs": [],
   "source": [
    "# library imports\n",
    "import pandas as pd"
   ]
  },
  {
   "cell_type": "code",
   "execution_count": null,
   "metadata": {
    "collapsed": true
   },
   "outputs": [],
   "source": [
    "# GNRL is 6 gigabytes - too big\n",
    "#record_general = pd.read_csv('data/OP_DTL_GNRL_PGYR2015_P01172017.csv')\n",
    "# RSRCH has hundred of bad columns - not good for class\n",
    "#record_research = pd.read_csv('data/OP_DTL_RSRCH_PGYR2015_P01172017.csv')\n",
    "# REMOVED has very little data, so we're ignoring it for now\n",
    "#record_removed = pd.read_csv('data/OP_REMOVED_DELETED_PGYR2015_P01172017.csv')"
   ]
  },
  {
   "cell_type": "code",
   "execution_count": 16,
   "metadata": {
    "collapsed": false,
    "scrolled": true
   },
   "outputs": [
    {
     "data": {
      "text/plain": [
       "(4319, 29)"
      ]
     },
     "execution_count": 16,
     "metadata": {},
     "output_type": "execute_result"
    }
   ],
   "source": [
    "record_ownership = pd.read_csv('data/OP_DTL_OWNRSHP_PGYR2015_P01172017.csv')\n",
    "record_ownership.shape"
   ]
  },
  {
   "cell_type": "code",
   "execution_count": 17,
   "metadata": {
    "collapsed": false
   },
   "outputs": [
    {
     "data": {
      "text/html": [
       "<div>\n",
       "<table border=\"1\" class=\"dataframe\">\n",
       "  <thead>\n",
       "    <tr style=\"text-align: right;\">\n",
       "      <th></th>\n",
       "      <th>Change_Type</th>\n",
       "      <th>Physician_Profile_ID</th>\n",
       "      <th>Physician_First_Name</th>\n",
       "      <th>Physician_Middle_Name</th>\n",
       "      <th>Physician_Last_Name</th>\n",
       "      <th>Physician_Name_Suffix</th>\n",
       "      <th>Recipient_Primary_Business_Street_Address_Line1</th>\n",
       "      <th>Recipient_Primary_Business_Street_Address_Line2</th>\n",
       "      <th>Recipient_City</th>\n",
       "      <th>Recipient_State</th>\n",
       "      <th>...</th>\n",
       "      <th>Value_of_Interest</th>\n",
       "      <th>Terms_of_Interest</th>\n",
       "      <th>Submitting_Applicable_Manufacturer_or_Applicable_GPO_Name</th>\n",
       "      <th>Applicable_Manufacturer_or_Applicable_GPO_Making_Payment_ID</th>\n",
       "      <th>Applicable_Manufacturer_or_Applicable_GPO_Making_Payment_Name</th>\n",
       "      <th>Applicable_Manufacturer_or_Applicable_GPO_Making_Payment_State</th>\n",
       "      <th>Applicable_Manufacturer_or_Applicable_GPO_Making_Payment_Country</th>\n",
       "      <th>Dispute_Status_for_Publication</th>\n",
       "      <th>Interest_Held_by_Physician_or_an_Immediate_Family_Member</th>\n",
       "      <th>Payment_Publication_Date</th>\n",
       "    </tr>\n",
       "  </thead>\n",
       "  <tbody>\n",
       "    <tr>\n",
       "      <th>0</th>\n",
       "      <td>UNCHANGED</td>\n",
       "      <td>333118</td>\n",
       "      <td>Kelvin</td>\n",
       "      <td>NaN</td>\n",
       "      <td>Higa</td>\n",
       "      <td>NaN</td>\n",
       "      <td>205 E River Park Circle</td>\n",
       "      <td>Ste 460</td>\n",
       "      <td>Fresno</td>\n",
       "      <td>CA</td>\n",
       "      <td>...</td>\n",
       "      <td>733.26</td>\n",
       "      <td>Not Publicly Traded - Common.  409a estimated ...</td>\n",
       "      <td>Endogastric Solutions, Inc</td>\n",
       "      <td>100000010963</td>\n",
       "      <td>Endogastric Solutions, Inc</td>\n",
       "      <td>WA</td>\n",
       "      <td>United States</td>\n",
       "      <td>No</td>\n",
       "      <td>Physician Covered Recipient</td>\n",
       "      <td>01/17/2017</td>\n",
       "    </tr>\n",
       "    <tr>\n",
       "      <th>1</th>\n",
       "      <td>UNCHANGED</td>\n",
       "      <td>270405</td>\n",
       "      <td>Spencer</td>\n",
       "      <td>NaN</td>\n",
       "      <td>Holover</td>\n",
       "      <td>NaN</td>\n",
       "      <td>3003 New Hyde Park Rd</td>\n",
       "      <td>Ste 307</td>\n",
       "      <td>New Hyde Park</td>\n",
       "      <td>NY</td>\n",
       "      <td>...</td>\n",
       "      <td>3070.52</td>\n",
       "      <td>Not Publicly Traded - Preferred.    409a estim...</td>\n",
       "      <td>Endogastric Solutions, Inc</td>\n",
       "      <td>100000010963</td>\n",
       "      <td>Endogastric Solutions, Inc</td>\n",
       "      <td>WA</td>\n",
       "      <td>United States</td>\n",
       "      <td>No</td>\n",
       "      <td>Physician Covered Recipient</td>\n",
       "      <td>01/17/2017</td>\n",
       "    </tr>\n",
       "    <tr>\n",
       "      <th>2</th>\n",
       "      <td>UNCHANGED</td>\n",
       "      <td>4927</td>\n",
       "      <td>Shawn</td>\n",
       "      <td>NaN</td>\n",
       "      <td>Garber</td>\n",
       "      <td>NaN</td>\n",
       "      <td>3003 New Hyde Park Rd</td>\n",
       "      <td>Ste 307</td>\n",
       "      <td>New Hyde Park</td>\n",
       "      <td>NY</td>\n",
       "      <td>...</td>\n",
       "      <td>12282.66</td>\n",
       "      <td>Not Publicly Traded - Preferred.    409a estim...</td>\n",
       "      <td>Endogastric Solutions, Inc</td>\n",
       "      <td>100000010963</td>\n",
       "      <td>Endogastric Solutions, Inc</td>\n",
       "      <td>WA</td>\n",
       "      <td>United States</td>\n",
       "      <td>No</td>\n",
       "      <td>Physician Covered Recipient</td>\n",
       "      <td>01/17/2017</td>\n",
       "    </tr>\n",
       "    <tr>\n",
       "      <th>3</th>\n",
       "      <td>UNCHANGED</td>\n",
       "      <td>132587</td>\n",
       "      <td>Yu-Guang</td>\n",
       "      <td>NaN</td>\n",
       "      <td>He</td>\n",
       "      <td>NaN</td>\n",
       "      <td>5323 Harry Hines Blvd.</td>\n",
       "      <td>NaN</td>\n",
       "      <td>Dallas</td>\n",
       "      <td>TX</td>\n",
       "      <td>...</td>\n",
       "      <td>330940.54</td>\n",
       "      <td>Direct ownership</td>\n",
       "      <td>Vital Art and Science, LLC</td>\n",
       "      <td>100000005370</td>\n",
       "      <td>Vital Art and Science, LLC</td>\n",
       "      <td>TX</td>\n",
       "      <td>United States</td>\n",
       "      <td>No</td>\n",
       "      <td>Physician Covered Recipient</td>\n",
       "      <td>01/17/2017</td>\n",
       "    </tr>\n",
       "    <tr>\n",
       "      <th>4</th>\n",
       "      <td>UNCHANGED</td>\n",
       "      <td>885629</td>\n",
       "      <td>Allan</td>\n",
       "      <td>NaN</td>\n",
       "      <td>Deutsch</td>\n",
       "      <td>NaN</td>\n",
       "      <td>345 E 80th St</td>\n",
       "      <td>NaN</td>\n",
       "      <td>New York</td>\n",
       "      <td>NY</td>\n",
       "      <td>...</td>\n",
       "      <td>1548787.00</td>\n",
       "      <td>fifty percent owner in reporting entity</td>\n",
       "      <td>ESSENTIAL DENTAL SYSTEMS INCORPORATED</td>\n",
       "      <td>100000005369</td>\n",
       "      <td>ESSENTIAL DENTAL SYSTEMS INCORPORATED</td>\n",
       "      <td>NJ</td>\n",
       "      <td>United States</td>\n",
       "      <td>No</td>\n",
       "      <td>Physician Covered Recipient</td>\n",
       "      <td>01/17/2017</td>\n",
       "    </tr>\n",
       "  </tbody>\n",
       "</table>\n",
       "<p>5 rows × 29 columns</p>\n",
       "</div>"
      ],
      "text/plain": [
       "  Change_Type  Physician_Profile_ID Physician_First_Name  \\\n",
       "0   UNCHANGED                333118               Kelvin   \n",
       "1   UNCHANGED                270405              Spencer   \n",
       "2   UNCHANGED                  4927                Shawn   \n",
       "3   UNCHANGED                132587             Yu-Guang   \n",
       "4   UNCHANGED                885629                Allan   \n",
       "\n",
       "  Physician_Middle_Name Physician_Last_Name Physician_Name_Suffix  \\\n",
       "0                   NaN                Higa                   NaN   \n",
       "1                   NaN             Holover                   NaN   \n",
       "2                   NaN              Garber                   NaN   \n",
       "3                   NaN                  He                   NaN   \n",
       "4                   NaN             Deutsch                   NaN   \n",
       "\n",
       "  Recipient_Primary_Business_Street_Address_Line1  \\\n",
       "0                         205 E River Park Circle   \n",
       "1                           3003 New Hyde Park Rd   \n",
       "2                           3003 New Hyde Park Rd   \n",
       "3                          5323 Harry Hines Blvd.   \n",
       "4                                   345 E 80th St   \n",
       "\n",
       "  Recipient_Primary_Business_Street_Address_Line2 Recipient_City  \\\n",
       "0                                         Ste 460         Fresno   \n",
       "1                                         Ste 307  New Hyde Park   \n",
       "2                                         Ste 307  New Hyde Park   \n",
       "3                                             NaN         Dallas   \n",
       "4                                             NaN       New York   \n",
       "\n",
       "  Recipient_State            ...            Value_of_Interest  \\\n",
       "0              CA            ...                       733.26   \n",
       "1              NY            ...                      3070.52   \n",
       "2              NY            ...                     12282.66   \n",
       "3              TX            ...                    330940.54   \n",
       "4              NY            ...                   1548787.00   \n",
       "\n",
       "                                   Terms_of_Interest  \\\n",
       "0  Not Publicly Traded - Common.  409a estimated ...   \n",
       "1  Not Publicly Traded - Preferred.    409a estim...   \n",
       "2  Not Publicly Traded - Preferred.    409a estim...   \n",
       "3                                   Direct ownership   \n",
       "4            fifty percent owner in reporting entity   \n",
       "\n",
       "  Submitting_Applicable_Manufacturer_or_Applicable_GPO_Name  \\\n",
       "0                         Endogastric Solutions, Inc          \n",
       "1                         Endogastric Solutions, Inc          \n",
       "2                         Endogastric Solutions, Inc          \n",
       "3                         Vital Art and Science, LLC          \n",
       "4              ESSENTIAL DENTAL SYSTEMS INCORPORATED          \n",
       "\n",
       "   Applicable_Manufacturer_or_Applicable_GPO_Making_Payment_ID  \\\n",
       "0                                       100000010963             \n",
       "1                                       100000010963             \n",
       "2                                       100000010963             \n",
       "3                                       100000005370             \n",
       "4                                       100000005369             \n",
       "\n",
       "  Applicable_Manufacturer_or_Applicable_GPO_Making_Payment_Name  \\\n",
       "0                         Endogastric Solutions, Inc              \n",
       "1                         Endogastric Solutions, Inc              \n",
       "2                         Endogastric Solutions, Inc              \n",
       "3                         Vital Art and Science, LLC              \n",
       "4              ESSENTIAL DENTAL SYSTEMS INCORPORATED              \n",
       "\n",
       "  Applicable_Manufacturer_or_Applicable_GPO_Making_Payment_State  \\\n",
       "0                                                 WA               \n",
       "1                                                 WA               \n",
       "2                                                 WA               \n",
       "3                                                 TX               \n",
       "4                                                 NJ               \n",
       "\n",
       "   Applicable_Manufacturer_or_Applicable_GPO_Making_Payment_Country  \\\n",
       "0                                      United States                  \n",
       "1                                      United States                  \n",
       "2                                      United States                  \n",
       "3                                      United States                  \n",
       "4                                      United States                  \n",
       "\n",
       "   Dispute_Status_for_Publication  \\\n",
       "0                              No   \n",
       "1                              No   \n",
       "2                              No   \n",
       "3                              No   \n",
       "4                              No   \n",
       "\n",
       "   Interest_Held_by_Physician_or_an_Immediate_Family_Member  \\\n",
       "0                        Physician Covered Recipient          \n",
       "1                        Physician Covered Recipient          \n",
       "2                        Physician Covered Recipient          \n",
       "3                        Physician Covered Recipient          \n",
       "4                        Physician Covered Recipient          \n",
       "\n",
       "   Payment_Publication_Date  \n",
       "0                01/17/2017  \n",
       "1                01/17/2017  \n",
       "2                01/17/2017  \n",
       "3                01/17/2017  \n",
       "4                01/17/2017  \n",
       "\n",
       "[5 rows x 29 columns]"
      ]
     },
     "execution_count": 17,
     "metadata": {},
     "output_type": "execute_result"
    }
   ],
   "source": [
    "record_ownership.head()"
   ]
  },
  {
   "cell_type": "markdown",
   "metadata": {},
   "source": [
    "## Tyler Section"
   ]
  },
  {
   "cell_type": "code",
   "execution_count": null,
   "metadata": {
    "collapsed": true
   },
   "outputs": [],
   "source": []
  },
  {
   "cell_type": "markdown",
   "metadata": {},
   "source": [
    "## David Section"
   ]
  },
  {
   "cell_type": "code",
   "execution_count": null,
   "metadata": {
    "collapsed": true
   },
   "outputs": [],
   "source": []
  },
  {
   "cell_type": "code",
   "execution_count": null,
   "metadata": {
    "collapsed": true
   },
   "outputs": [],
   "source": []
  },
  {
   "cell_type": "code",
   "execution_count": null,
   "metadata": {
    "collapsed": true
   },
   "outputs": [],
   "source": []
  }
 ],
 "metadata": {
  "kernelspec": {
   "display_name": "Python 2",
   "language": "python",
   "name": "python2"
  },
  "language_info": {
   "codemirror_mode": {
    "name": "ipython",
    "version": 2
   },
   "file_extension": ".py",
   "mimetype": "text/x-python",
   "name": "python",
   "nbconvert_exporter": "python",
   "pygments_lexer": "ipython2",
   "version": "2.7.13"
  }
 },
 "nbformat": 4,
 "nbformat_minor": 2
}
