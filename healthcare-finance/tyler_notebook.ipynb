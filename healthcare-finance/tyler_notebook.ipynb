{
 "cells": [
  {
   "cell_type": "markdown",
   "metadata": {},
   "source": [
    "This notebook is sectioned by heading. There is a 'Tyler' section and a 'David' section. If we put our stuff in only our own section, we should be able to work on the same notebook with no issues."
   ]
  },
  {
   "cell_type": "markdown",
   "metadata": {},
   "source": [
    "Things to investigate:\n",
    "\n",
    "- How many investments are by doctors who have multiple investments? (Tyler, done)\n",
    "\n",
    "- Which states / zip codes are associated with the most investments? Does affluence of business zipcode correlate with doctor investment? (David, in progress)\n",
    "\n",
    "- Which doctors have invested the most money? In the most companies?\n",
    "\n",
    "- Which investments were made during or prior to 2015? What is the total sum of these different groups of investments?\n",
    "\n",
    "- Which businesses hold the most investments from doctors? Are they geographically close to each other?"
   ]
  },
  {
   "cell_type": "code",
   "execution_count": 1,
   "metadata": {
    "collapsed": false
   },
   "outputs": [],
   "source": [
    "# library imports\n",
    "import pandas as pd\n",
    "import numpy as np\n",
    "\n",
    "%matplotlib inline\n",
    "import matplotlib as mpl\n",
    "import matplotlib.pyplot as plt\n",
    "\n",
    "import locale # money formatting"
   ]
  },
  {
   "cell_type": "code",
   "execution_count": 2,
   "metadata": {
    "collapsed": false
   },
   "outputs": [
    {
     "data": {
      "text/plain": [
       "'English_United States.1252'"
      ]
     },
     "execution_count": 2,
     "metadata": {},
     "output_type": "execute_result"
    }
   ],
   "source": [
    "locale.setlocale( locale.LC_ALL, '' )"
   ]
  },
  {
   "cell_type": "code",
   "execution_count": 3,
   "metadata": {
    "collapsed": true
   },
   "outputs": [],
   "source": [
    "#     GNRL is 6 gigabytes - too big\n",
    "# record_general = pd.read_csv('data/OP_DTL_GNRL_PGYR2015_P01172017.csv')\n",
    "#     RSRCH has hundred of bad columns - not good for class\n",
    "# record_research = pd.read_csv('data/OP_DTL_RSRCH_PGYR2015_P01172017.csv')\n",
    "#     REMOVED has very little data, so we're ignoring it for now\n",
    "# record_removed = pd.read_csv('data/OP_REMOVED_DELETED_PGYR2015_P01172017.csv')"
   ]
  },
  {
   "cell_type": "code",
   "execution_count": 4,
   "metadata": {
    "collapsed": false,
    "scrolled": true
   },
   "outputs": [
    {
     "ename": "IOError",
     "evalue": "File data/OP_DTL_OWNRSHP_PGYR2015_P01172017.csv does not exist",
     "output_type": "error",
     "traceback": [
      "\u001b[0;31m---------------------------------------------------------------------------\u001b[0m",
      "\u001b[0;31mIOError\u001b[0m                                   Traceback (most recent call last)",
      "\u001b[0;32m<ipython-input-4-40be2266c700>\u001b[0m in \u001b[0;36m<module>\u001b[0;34m()\u001b[0m\n\u001b[0;32m----> 1\u001b[0;31m \u001b[0mrecord_ownership\u001b[0m \u001b[1;33m=\u001b[0m \u001b[0mpd\u001b[0m\u001b[1;33m.\u001b[0m\u001b[0mread_csv\u001b[0m\u001b[1;33m(\u001b[0m\u001b[1;34m'data/OP_DTL_OWNRSHP_PGYR2015_P01172017.csv'\u001b[0m\u001b[1;33m)\u001b[0m\u001b[1;33m\u001b[0m\u001b[0m\n\u001b[0m\u001b[1;32m      2\u001b[0m \u001b[0mrecord_ownership\u001b[0m\u001b[1;33m.\u001b[0m\u001b[0mshape\u001b[0m\u001b[1;33m\u001b[0m\u001b[0m\n",
      "\u001b[0;32mC:\\Users\\tyler\\programs\\Anaconda2\\lib\\site-packages\\pandas\\io\\parsers.pyc\u001b[0m in \u001b[0;36mparser_f\u001b[0;34m(filepath_or_buffer, sep, delimiter, header, names, index_col, usecols, squeeze, prefix, mangle_dupe_cols, dtype, engine, converters, true_values, false_values, skipinitialspace, skiprows, nrows, na_values, keep_default_na, na_filter, verbose, skip_blank_lines, parse_dates, infer_datetime_format, keep_date_col, date_parser, dayfirst, iterator, chunksize, compression, thousands, decimal, lineterminator, quotechar, quoting, escapechar, comment, encoding, dialect, tupleize_cols, error_bad_lines, warn_bad_lines, skipfooter, skip_footer, doublequote, delim_whitespace, as_recarray, compact_ints, use_unsigned, low_memory, buffer_lines, memory_map, float_precision)\u001b[0m\n\u001b[1;32m    644\u001b[0m                     skip_blank_lines=skip_blank_lines)\n\u001b[1;32m    645\u001b[0m \u001b[1;33m\u001b[0m\u001b[0m\n\u001b[0;32m--> 646\u001b[0;31m         \u001b[1;32mreturn\u001b[0m \u001b[0m_read\u001b[0m\u001b[1;33m(\u001b[0m\u001b[0mfilepath_or_buffer\u001b[0m\u001b[1;33m,\u001b[0m \u001b[0mkwds\u001b[0m\u001b[1;33m)\u001b[0m\u001b[1;33m\u001b[0m\u001b[0m\n\u001b[0m\u001b[1;32m    647\u001b[0m \u001b[1;33m\u001b[0m\u001b[0m\n\u001b[1;32m    648\u001b[0m     \u001b[0mparser_f\u001b[0m\u001b[1;33m.\u001b[0m\u001b[0m__name__\u001b[0m \u001b[1;33m=\u001b[0m \u001b[0mname\u001b[0m\u001b[1;33m\u001b[0m\u001b[0m\n",
      "\u001b[0;32mC:\\Users\\tyler\\programs\\Anaconda2\\lib\\site-packages\\pandas\\io\\parsers.pyc\u001b[0m in \u001b[0;36m_read\u001b[0;34m(filepath_or_buffer, kwds)\u001b[0m\n\u001b[1;32m    387\u001b[0m \u001b[1;33m\u001b[0m\u001b[0m\n\u001b[1;32m    388\u001b[0m     \u001b[1;31m# Create the parser.\u001b[0m\u001b[1;33m\u001b[0m\u001b[1;33m\u001b[0m\u001b[0m\n\u001b[0;32m--> 389\u001b[0;31m     \u001b[0mparser\u001b[0m \u001b[1;33m=\u001b[0m \u001b[0mTextFileReader\u001b[0m\u001b[1;33m(\u001b[0m\u001b[0mfilepath_or_buffer\u001b[0m\u001b[1;33m,\u001b[0m \u001b[1;33m**\u001b[0m\u001b[0mkwds\u001b[0m\u001b[1;33m)\u001b[0m\u001b[1;33m\u001b[0m\u001b[0m\n\u001b[0m\u001b[1;32m    390\u001b[0m \u001b[1;33m\u001b[0m\u001b[0m\n\u001b[1;32m    391\u001b[0m     \u001b[1;32mif\u001b[0m \u001b[1;33m(\u001b[0m\u001b[0mnrows\u001b[0m \u001b[1;32mis\u001b[0m \u001b[1;32mnot\u001b[0m \u001b[0mNone\u001b[0m\u001b[1;33m)\u001b[0m \u001b[1;32mand\u001b[0m \u001b[1;33m(\u001b[0m\u001b[0mchunksize\u001b[0m \u001b[1;32mis\u001b[0m \u001b[1;32mnot\u001b[0m \u001b[0mNone\u001b[0m\u001b[1;33m)\u001b[0m\u001b[1;33m:\u001b[0m\u001b[1;33m\u001b[0m\u001b[0m\n",
      "\u001b[0;32mC:\\Users\\tyler\\programs\\Anaconda2\\lib\\site-packages\\pandas\\io\\parsers.pyc\u001b[0m in \u001b[0;36m__init__\u001b[0;34m(self, f, engine, **kwds)\u001b[0m\n\u001b[1;32m    728\u001b[0m             \u001b[0mself\u001b[0m\u001b[1;33m.\u001b[0m\u001b[0moptions\u001b[0m\u001b[1;33m[\u001b[0m\u001b[1;34m'has_index_names'\u001b[0m\u001b[1;33m]\u001b[0m \u001b[1;33m=\u001b[0m \u001b[0mkwds\u001b[0m\u001b[1;33m[\u001b[0m\u001b[1;34m'has_index_names'\u001b[0m\u001b[1;33m]\u001b[0m\u001b[1;33m\u001b[0m\u001b[0m\n\u001b[1;32m    729\u001b[0m \u001b[1;33m\u001b[0m\u001b[0m\n\u001b[0;32m--> 730\u001b[0;31m         \u001b[0mself\u001b[0m\u001b[1;33m.\u001b[0m\u001b[0m_make_engine\u001b[0m\u001b[1;33m(\u001b[0m\u001b[0mself\u001b[0m\u001b[1;33m.\u001b[0m\u001b[0mengine\u001b[0m\u001b[1;33m)\u001b[0m\u001b[1;33m\u001b[0m\u001b[0m\n\u001b[0m\u001b[1;32m    731\u001b[0m \u001b[1;33m\u001b[0m\u001b[0m\n\u001b[1;32m    732\u001b[0m     \u001b[1;32mdef\u001b[0m \u001b[0mclose\u001b[0m\u001b[1;33m(\u001b[0m\u001b[0mself\u001b[0m\u001b[1;33m)\u001b[0m\u001b[1;33m:\u001b[0m\u001b[1;33m\u001b[0m\u001b[0m\n",
      "\u001b[0;32mC:\\Users\\tyler\\programs\\Anaconda2\\lib\\site-packages\\pandas\\io\\parsers.pyc\u001b[0m in \u001b[0;36m_make_engine\u001b[0;34m(self, engine)\u001b[0m\n\u001b[1;32m    921\u001b[0m     \u001b[1;32mdef\u001b[0m \u001b[0m_make_engine\u001b[0m\u001b[1;33m(\u001b[0m\u001b[0mself\u001b[0m\u001b[1;33m,\u001b[0m \u001b[0mengine\u001b[0m\u001b[1;33m=\u001b[0m\u001b[1;34m'c'\u001b[0m\u001b[1;33m)\u001b[0m\u001b[1;33m:\u001b[0m\u001b[1;33m\u001b[0m\u001b[0m\n\u001b[1;32m    922\u001b[0m         \u001b[1;32mif\u001b[0m \u001b[0mengine\u001b[0m \u001b[1;33m==\u001b[0m \u001b[1;34m'c'\u001b[0m\u001b[1;33m:\u001b[0m\u001b[1;33m\u001b[0m\u001b[0m\n\u001b[0;32m--> 923\u001b[0;31m             \u001b[0mself\u001b[0m\u001b[1;33m.\u001b[0m\u001b[0m_engine\u001b[0m \u001b[1;33m=\u001b[0m \u001b[0mCParserWrapper\u001b[0m\u001b[1;33m(\u001b[0m\u001b[0mself\u001b[0m\u001b[1;33m.\u001b[0m\u001b[0mf\u001b[0m\u001b[1;33m,\u001b[0m \u001b[1;33m**\u001b[0m\u001b[0mself\u001b[0m\u001b[1;33m.\u001b[0m\u001b[0moptions\u001b[0m\u001b[1;33m)\u001b[0m\u001b[1;33m\u001b[0m\u001b[0m\n\u001b[0m\u001b[1;32m    924\u001b[0m         \u001b[1;32melse\u001b[0m\u001b[1;33m:\u001b[0m\u001b[1;33m\u001b[0m\u001b[0m\n\u001b[1;32m    925\u001b[0m             \u001b[1;32mif\u001b[0m \u001b[0mengine\u001b[0m \u001b[1;33m==\u001b[0m \u001b[1;34m'python'\u001b[0m\u001b[1;33m:\u001b[0m\u001b[1;33m\u001b[0m\u001b[0m\n",
      "\u001b[0;32mC:\\Users\\tyler\\programs\\Anaconda2\\lib\\site-packages\\pandas\\io\\parsers.pyc\u001b[0m in \u001b[0;36m__init__\u001b[0;34m(self, src, **kwds)\u001b[0m\n\u001b[1;32m   1388\u001b[0m         \u001b[0mkwds\u001b[0m\u001b[1;33m[\u001b[0m\u001b[1;34m'allow_leading_cols'\u001b[0m\u001b[1;33m]\u001b[0m \u001b[1;33m=\u001b[0m \u001b[0mself\u001b[0m\u001b[1;33m.\u001b[0m\u001b[0mindex_col\u001b[0m \u001b[1;32mis\u001b[0m \u001b[1;32mnot\u001b[0m \u001b[0mFalse\u001b[0m\u001b[1;33m\u001b[0m\u001b[0m\n\u001b[1;32m   1389\u001b[0m \u001b[1;33m\u001b[0m\u001b[0m\n\u001b[0;32m-> 1390\u001b[0;31m         \u001b[0mself\u001b[0m\u001b[1;33m.\u001b[0m\u001b[0m_reader\u001b[0m \u001b[1;33m=\u001b[0m \u001b[0m_parser\u001b[0m\u001b[1;33m.\u001b[0m\u001b[0mTextReader\u001b[0m\u001b[1;33m(\u001b[0m\u001b[0msrc\u001b[0m\u001b[1;33m,\u001b[0m \u001b[1;33m**\u001b[0m\u001b[0mkwds\u001b[0m\u001b[1;33m)\u001b[0m\u001b[1;33m\u001b[0m\u001b[0m\n\u001b[0m\u001b[1;32m   1391\u001b[0m \u001b[1;33m\u001b[0m\u001b[0m\n\u001b[1;32m   1392\u001b[0m         \u001b[1;31m# XXX\u001b[0m\u001b[1;33m\u001b[0m\u001b[1;33m\u001b[0m\u001b[0m\n",
      "\u001b[0;32mpandas\\parser.pyx\u001b[0m in \u001b[0;36mpandas.parser.TextReader.__cinit__ (pandas\\parser.c:4184)\u001b[0;34m()\u001b[0m\n",
      "\u001b[0;32mpandas\\parser.pyx\u001b[0m in \u001b[0;36mpandas.parser.TextReader._setup_parser_source (pandas\\parser.c:8449)\u001b[0;34m()\u001b[0m\n",
      "\u001b[0;31mIOError\u001b[0m: File data/OP_DTL_OWNRSHP_PGYR2015_P01172017.csv does not exist"
     ]
    }
   ],
   "source": [
    "record_ownership = pd.read_csv('data/OP_DTL_OWNRSHP_PGYR2015_P01172017.csv')\n",
    "record_ownership.shape"
   ]
  },
  {
   "cell_type": "code",
   "execution_count": null,
   "metadata": {
    "collapsed": false
   },
   "outputs": [],
   "source": [
    "record_ownership.head()"
   ]
  },
  {
   "cell_type": "markdown",
   "metadata": {},
   "source": [
    "## Tyler: How many investments are by doctors who have multiple investments?"
   ]
  },
  {
   "cell_type": "code",
   "execution_count": null,
   "metadata": {
    "collapsed": false
   },
   "outputs": [],
   "source": [
    "doctors = pd.DataFrame([])\n",
    "doctors['ID'] = record_ownership['Physician_Profile_ID']\n",
    "doctors['First_Name'] = record_ownership['Physician_First_Name']\n",
    "doctors['Middle_Name'] = record_ownership['Physician_Middle_Name']\n",
    "doctors['Last_Name'] = record_ownership['Physician_Last_Name']\n",
    "\n",
    "doctors.shape"
   ]
  },
  {
   "cell_type": "code",
   "execution_count": null,
   "metadata": {
    "collapsed": false
   },
   "outputs": [],
   "source": [
    "doctors.head()"
   ]
  },
  {
   "cell_type": "code",
   "execution_count": null,
   "metadata": {
    "collapsed": false
   },
   "outputs": [],
   "source": [
    "# sort by IDs (unneccessary)\n",
    "doctors_sorted = doctors.sort_values('ID')\n",
    "doctors_sorted.head()"
   ]
  },
  {
   "cell_type": "code",
   "execution_count": null,
   "metadata": {
    "collapsed": false
   },
   "outputs": [],
   "source": [
    "# count the unique IDs\n",
    "uniq = len(doctors.ID.unique())\n",
    "total = doctors.shape[0]\n",
    "\n",
    "print str(uniq) + \" unique physicians in data set of \" + str(total) + \" observations.\"\n",
    "print str(total - uniq) + \" observations are associated with physicians with 2 or more investments.\""
   ]
  },
  {
   "cell_type": "markdown",
   "metadata": {},
   "source": [
    "## Tyler: Which doctors have invested the most money? In the most companies?"
   ]
  },
  {
   "cell_type": "code",
   "execution_count": null,
   "metadata": {
    "collapsed": false
   },
   "outputs": [],
   "source": [
    "# get a view of the data we want\n",
    "temp = record_ownership[[\"Physician_Profile_ID\",\n",
    "                         \"Physician_First_Name\",\n",
    "                         \"Physician_Middle_Name\",\n",
    "                         \"Physician_Last_Name\",\n",
    "                         \"Total_Amount_Invested_USDollars\",\n",
    "                         \"Applicable_Manufacturer_or_Applicable_GPO_Making_Payment_ID\",\n",
    "                         \"Applicable_Manufacturer_or_Applicable_GPO_Making_Payment_Name\"]]\n",
    "\n",
    "\n",
    "# build the dataframe out of that view\n",
    "doc_invest = pd.DataFrame(temp, copy=True)\n",
    "doc_invest = doc_invest.rename(columns={\"Physician_Profile_ID\":\"Physician_ID\",\n",
    "                                        \"Total_Amount_Invested_USDollars\":\"Total_Invesment\",\n",
    "                                        \"Applicable_Manufacturer_or_Applicable_GPO_Making_Payment_ID\":\"Company_ID\",\n",
    "                                        \"Applicable_Manufacturer_or_Applicable_GPO_Making_Payment_Name\":\"Company_Name\"})\n",
    "\n",
    "doc_invest = doc_invest.astype({\"Physician_ID\":\"string\",\n",
    "                                \"Physician_First_Name\":\"string\",\n",
    "                                \"Physician_Middle_Name\":\"string\",\n",
    "                                \"Physician_Last_Name\":\"string\",\n",
    "                                \"Company_ID\":\"string\",\n",
    "                                \"Company_Name\":\"string\"})\n",
    "\n",
    "#doc_invest.head()\n",
    "doc_invest.dtypes"
   ]
  },
  {
   "cell_type": "code",
   "execution_count": 6,
   "metadata": {
    "collapsed": false
   },
   "outputs": [
    {
     "data": {
      "text/plain": [
       "3870"
      ]
     },
     "execution_count": 6,
     "metadata": {},
     "output_type": "execute_result"
    }
   ],
   "source": [
    "# Dictionary to hold the doctor:total_investment data\n",
    "investments = {}\n",
    "\n",
    "for doctor in doc_invest[\"Physician_ID\"].unique():\n",
    "    investments[doctor] = np.sum(doc_invest[\"Total_Invesment\"].where(doc_invest[\"Physician_ID\"] == doctor))\n",
    "\n",
    "len(investments)\n",
    "#investments.items()[:10]"
   ]
  },
  {
   "cell_type": "markdown",
   "metadata": {},
   "source": [
    "This matches our observation above: 3870 unique physicians in data set of 4319 observations. Which of these 3870 doctors holds the greatest total investments?"
   ]
  },
  {
   "cell_type": "code",
   "execution_count": 7,
   "metadata": {
    "collapsed": false
   },
   "outputs": [
    {
     "data": {
      "text/html": [
       "<div>\n",
       "<table border=\"1\" class=\"dataframe\">\n",
       "  <thead>\n",
       "    <tr style=\"text-align: right;\">\n",
       "      <th></th>\n",
       "      <th>Physician_ID</th>\n",
       "      <th>Physician_First_Name</th>\n",
       "      <th>Physician_Middle_Name</th>\n",
       "      <th>Physician_Last_Name</th>\n",
       "      <th>Total_Invesment</th>\n",
       "      <th>Company_ID</th>\n",
       "      <th>Company_Name</th>\n",
       "    </tr>\n",
       "  </thead>\n",
       "  <tbody>\n",
       "    <tr>\n",
       "      <th>0</th>\n",
       "      <td>333118</td>\n",
       "      <td>Kelvin</td>\n",
       "      <td>nan</td>\n",
       "      <td>Higa</td>\n",
       "      <td>2500.00</td>\n",
       "      <td>100000010963</td>\n",
       "      <td>Endogastric Solutions, Inc</td>\n",
       "    </tr>\n",
       "    <tr>\n",
       "      <th>1</th>\n",
       "      <td>270405</td>\n",
       "      <td>Spencer</td>\n",
       "      <td>nan</td>\n",
       "      <td>Holover</td>\n",
       "      <td>24999.69</td>\n",
       "      <td>100000010963</td>\n",
       "      <td>Endogastric Solutions, Inc</td>\n",
       "    </tr>\n",
       "    <tr>\n",
       "      <th>2</th>\n",
       "      <td>4927</td>\n",
       "      <td>Shawn</td>\n",
       "      <td>nan</td>\n",
       "      <td>Garber</td>\n",
       "      <td>99998.74</td>\n",
       "      <td>100000010963</td>\n",
       "      <td>Endogastric Solutions, Inc</td>\n",
       "    </tr>\n",
       "    <tr>\n",
       "      <th>3</th>\n",
       "      <td>132587</td>\n",
       "      <td>Yu-Guang</td>\n",
       "      <td>nan</td>\n",
       "      <td>He</td>\n",
       "      <td>10000.00</td>\n",
       "      <td>100000005370</td>\n",
       "      <td>Vital Art and Science, LLC</td>\n",
       "    </tr>\n",
       "    <tr>\n",
       "      <th>4</th>\n",
       "      <td>885629</td>\n",
       "      <td>Allan</td>\n",
       "      <td>nan</td>\n",
       "      <td>Deutsch</td>\n",
       "      <td>1548787.00</td>\n",
       "      <td>100000005369</td>\n",
       "      <td>ESSENTIAL DENTAL SYSTEMS INCORPORATED</td>\n",
       "    </tr>\n",
       "  </tbody>\n",
       "</table>\n",
       "</div>"
      ],
      "text/plain": [
       "  Physician_ID Physician_First_Name Physician_Middle_Name Physician_Last_Name  \\\n",
       "0       333118               Kelvin                   nan                Higa   \n",
       "1       270405              Spencer                   nan             Holover   \n",
       "2         4927                Shawn                   nan              Garber   \n",
       "3       132587             Yu-Guang                   nan                  He   \n",
       "4       885629                Allan                   nan             Deutsch   \n",
       "\n",
       "   Total_Invesment    Company_ID                           Company_Name  \n",
       "0          2500.00  100000010963             Endogastric Solutions, Inc  \n",
       "1         24999.69  100000010963             Endogastric Solutions, Inc  \n",
       "2         99998.74  100000010963             Endogastric Solutions, Inc  \n",
       "3         10000.00  100000005370             Vital Art and Science, LLC  \n",
       "4       1548787.00  100000005369  ESSENTIAL DENTAL SYSTEMS INCORPORATED  "
      ]
     },
     "execution_count": 7,
     "metadata": {},
     "output_type": "execute_result"
    }
   ],
   "source": [
    "doc_invest.head()"
   ]
  },
  {
   "cell_type": "code",
   "execution_count": 8,
   "metadata": {
    "collapsed": false
   },
   "outputs": [
    {
     "name": "stdout",
     "output_type": "stream",
     "text": [
      "George  Lopez       ID: 1315076   has invested $199,733,425.11\n",
      "Richard  Sherman    ID: 661336    has invested $10,714,540.75\n",
      "Robert  Swinney     ID: 544922    has invested $6,295,918.17\n",
      "John  Steinmann     ID: 355094    has invested $5,719,872.54\n",
      "ARNOLD M SCHWARTZ   ID: 142810    has invested $4,808,777.18\n",
      "Nicholas  Lembo     ID: 281680    has invested $3,740,111.98\n",
      "FRANK  CAMMISA      ID: 329721    has invested $3,082,015.00\n",
      "Michael  Hartman    ID: 122142    has invested $2,811,717.25\n",
      "Michael  Kovalchik  ID: 622837    has invested $2,658,254.57\n",
      "JOHN  THALGOTT      ID: 350823    has invested $2,411,752.00\n"
     ]
    }
   ],
   "source": [
    "# sort the docs\n",
    "sorted_docs = sorted(investments.items(), # (doctor_id, value)\n",
    "                     key=lambda x: x[1],  # sort on value\n",
    "                     reverse=True)        # biggest to smallest\n",
    "\n",
    "#print sorted_docs[:10]\n",
    "\n",
    "# grab the doctor names via the ID\n",
    "for doc, total in sorted_docs[:10]:\n",
    "    #print \"doctor: \" + str(doc) + \"\\t\\tinvested \" + str(total)\n",
    "    just_doc = doc_invest[doc_invest[\"Physician_ID\"] == doc].head(1)\n",
    "    \n",
    "    doc_f = just_doc.get(\"Physician_First_Name\").values[0]\n",
    "    doc_m = just_doc.get(\"Physician_Middle_Name\").values[0]\n",
    "    doc_l = just_doc.get(\"Physician_Last_Name\").values[0]\n",
    "    \n",
    "    if doc_m == \"nan\":\n",
    "        doc_m = \"\"\n",
    "    \n",
    "    name = str(doc_f) + \" \" + str(doc_m) + \" \" + str(doc_l)\n",
    "    id_n = \"ID: \" + str(doc).ljust(10)\n",
    "    inv  = \"has invested \" + locale.currency(total, grouping = True)\n",
    "    \n",
    "    out_str = name.ljust(20) + id_n + inv\n",
    "    print out_str"
   ]
  },
  {
   "cell_type": "markdown",
   "metadata": {},
   "source": [
    "We can see that the doctor wth the most investments is George Lopez, with nearly \\$200mm total investments. Let's now plot a histogram of the total investments, and see how far away from the mean he is."
   ]
  },
  {
   "cell_type": "code",
   "execution_count": 66,
   "metadata": {
    "collapsed": false
   },
   "outputs": [
    {
     "data": {
      "image/png": "[encoded data removed]",
      "text/plain": [
       "<matplotlib.figure.Figure at 0xf44b828>"
      ]
     },
     "metadata": {},
     "output_type": "display_data"
    }
   ],
   "source": [
    "invs = []\n",
    "\n",
    "for d, i in sorted_docs:\n",
    "    invs.append(i)\n",
    "\n",
    "sr = pd.Series(invs)\n",
    "\n",
    "# Produce a histogram of the invesment totals\n",
    "plt.figure()\n",
    "plt.hist(sr, bins=50)\n",
    "plt.xlabel(\"Totals (100s of millions of USD)\")\n",
    "plt.ylabel(\"Number of Doctors\")\n",
    "plt.show()"
   ]
  },
  {
   "cell_type": "markdown",
   "metadata": {
    "collapsed": true
   },
   "source": [
    "What a histogram. In spite of how it looks, there are actual several bins with members. An overwhelming number of doctors have a low total investment, therefore we can just barely see a couple pixel-sized bins to the right of the tall one. Additionally, there is an outlier way to the right, with nearly \\$200mm USD of investment.\n",
    "\n",
    "Let's try a log scale histogram, and see if it is more readable."
   ]
  },
  {
   "cell_type": "code",
   "execution_count": 56,
   "metadata": {
    "collapsed": false
   },
   "outputs": [
    {
     "data": {
      "image/png": "[encoded data removed]",
      "text/plain": [
       "<matplotlib.figure.Figure at 0xe3a7550>"
      ]
     },
     "metadata": {},
     "output_type": "display_data"
    }
   ],
   "source": [
    "plt.figure()\n",
    "plt.hist(sr, bins=50, log=True)\n",
    "plt.xlabel(\"Investment Totals (100s of millions of USD)\")\n",
    "plt.ylabel(\"Number of Doctors (log scale)\")\n",
    "plt.show()"
   ]
  },
  {
   "cell_type": "markdown",
   "metadata": {},
   "source": [
    "We can now clearly see the distribution of investment totals. The majority of investments are less than \\$1mm, a few investments approach the \\$10mm range, and there is a massive outlier near \\$200mm."
   ]
  },
  {
   "cell_type": "code",
   "execution_count": null,
   "metadata": {
    "collapsed": true
   },
   "outputs": [],
   "source": []
  }
 ],
 "metadata": {
  "anaconda-cloud": {},
  "kernelspec": {
   "display_name": "Python 2",
   "language": "python",
   "name": "python2"
  },
  "language_info": {
   "codemirror_mode": {
    "name": "ipython",
    "version": 2
   },
   "file_extension": ".py",
   "mimetype": "text/x-python",
   "name": "python",
   "nbconvert_exporter": "python",
   "pygments_lexer": "ipython2",
   "version": "2.7.13"
  }
 },
 "nbformat": 4,
 "nbformat_minor": 2
}
