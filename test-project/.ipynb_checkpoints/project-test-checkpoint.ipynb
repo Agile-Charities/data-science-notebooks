{
 "cells": [
  {
   "cell_type": "markdown",
   "metadata": {},
   "source": [
    "# Dependencies\n",
    "\n",
    "Run the following commands (in a temrinal, preferably `Git Bash`) to install the below dependencies.\n",
    "\n",
    "```\n",
    "conda install holoviews\n",
    "conda install -c conda-forge -c ioam geoviews\n",
    "conda install xarray\n",
    "conda install -c ioos biggus\n",
    "conda install -c scitools iris=1.11.0\n",
    "```\n",
    "\n",
    "I had issues installing `biggus`, which is required by `iris`."
   ]
  },
  {
   "cell_type": "code",
   "execution_count": 6,
   "metadata": {
    "collapsed": false
   },
   "outputs": [
    {
     "ename": "ModuleNotFoundError",
     "evalue": "No module named 'iris'",
     "output_type": "error",
     "traceback": [
      "\u001b[0;31m---------------------------------------------------------------------------\u001b[0m",
      "\u001b[0;31mModuleNotFoundError\u001b[0m                       Traceback (most recent call last)",
      "\u001b[0;32m<ipython-input-6-14e86b5c39ee>\u001b[0m in \u001b[0;36m<module>\u001b[0;34m()\u001b[0m\n\u001b[1;32m      4\u001b[0m \u001b[1;32mimport\u001b[0m \u001b[0mholoviews\u001b[0m \u001b[1;32mas\u001b[0m \u001b[0mhv\u001b[0m\u001b[1;33m\u001b[0m\u001b[0m\n\u001b[1;32m      5\u001b[0m \u001b[1;32mimport\u001b[0m \u001b[0mgeoviews\u001b[0m \u001b[1;32mas\u001b[0m \u001b[0mgv\u001b[0m\u001b[1;33m\u001b[0m\u001b[0m\n\u001b[0;32m----> 6\u001b[0;31m \u001b[1;32mimport\u001b[0m \u001b[0miris\u001b[0m\u001b[1;33m\u001b[0m\u001b[0m\n\u001b[0m\u001b[1;32m      7\u001b[0m \u001b[1;32mimport\u001b[0m \u001b[0mcartopy\u001b[0m\u001b[1;33m\u001b[0m\u001b[0m\n\u001b[1;32m      8\u001b[0m \u001b[1;33m\u001b[0m\u001b[0m\n",
      "\u001b[0;31mModuleNotFoundError\u001b[0m: No module named 'iris'"
     ]
    }
   ],
   "source": [
    "import numpy as np\n",
    "import xarray as xr\n",
    "import pandas as pd\n",
    "import holoviews as hv\n",
    "import geoviews as gv\n",
    "import iris\n",
    "import cartopy\n",
    "\n",
    "from cartopy import crs\n",
    "from cartopy import feature as cf\n",
    "from geoviews import feature as gf\n",
    "\n",
    "hv.notebook_extension('bokeh','matplotlib')\n",
    "%output backend='matplotlib'\n",
    "%opts Feature [projection=crs.Robinson()]"
   ]
  },
  {
   "cell_type": "code",
   "execution_count": 7,
   "metadata": {
    "collapsed": false
   },
   "outputs": [
    {
     "ename": "NameError",
     "evalue": "name 'gf' is not defined",
     "output_type": "error",
     "traceback": [
      "\u001b[0;31m---------------------------------------------------------------------------\u001b[0m",
      "\u001b[0;31mNameError\u001b[0m                                 Traceback (most recent call last)",
      "\u001b[0;32m<ipython-input-7-306ec145e2c0>\u001b[0m in \u001b[0;36m<module>\u001b[0;34m()\u001b[0m\n\u001b[0;32m----> 1\u001b[0;31m \u001b[0mgf\u001b[0m\u001b[1;33m.\u001b[0m\u001b[0mcoastline\u001b[0m \u001b[1;33m+\u001b[0m \u001b[0mgf\u001b[0m\u001b[1;33m.\u001b[0m\u001b[0mocean\u001b[0m \u001b[1;33m+\u001b[0m \u001b[0mgf\u001b[0m\u001b[1;33m.\u001b[0m\u001b[0mocean\u001b[0m\u001b[1;33m*\u001b[0m\u001b[0mgf\u001b[0m\u001b[1;33m.\u001b[0m\u001b[0mland\u001b[0m\u001b[1;33m*\u001b[0m\u001b[0mgf\u001b[0m\u001b[1;33m.\u001b[0m\u001b[0mcoastline\u001b[0m\u001b[1;33m\u001b[0m\u001b[0m\n\u001b[0m",
      "\u001b[0;31mNameError\u001b[0m: name 'gf' is not defined"
     ]
    }
   ],
   "source": [
    "gf.coastline + gf.ocean + gf.ocean*gf.land*gf.coastline"
   ]
  },
  {
   "cell_type": "markdown",
   "metadata": {
    "collapsed": true
   },
   "source": [
    "some changes by Tyler"
   ]
  }
 ],
 "metadata": {
  "kernelspec": {
   "display_name": "Python 3",
   "language": "python",
   "name": "python3"
  },
  "language_info": {
   "codemirror_mode": {
    "name": "ipython",
    "version": 3
   },
   "file_extension": ".py",
   "mimetype": "text/x-python",
   "name": "python",
   "nbconvert_exporter": "python",
   "pygments_lexer": "ipython3",
   "version": "3.6.0"
  }
 },
 "nbformat": 4,
 "nbformat_minor": 2
}
